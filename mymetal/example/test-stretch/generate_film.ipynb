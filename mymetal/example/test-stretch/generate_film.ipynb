{
 "cells": [
  {
   "cell_type": "markdown",
   "metadata": {},
   "source": [
    "# Generate films with different biaxial strains - and adjust the atomic positions in the z direction to satisfy the volume invariance property"
   ]
  },
  {
   "cell_type": "code",
   "execution_count": 13,
   "metadata": {},
   "outputs": [],
   "source": [
    "from ase.io.vasp import read_vasp, write_vasp  \n",
    "from mymetal.io.vasp import my_write_vasp\n",
    "from mymetal.build.film.stretch import generate_film, stretch_list_along_direction_to_cell\n",
    "from ase.visualize import view\n",
    "from numpy import sqrt\n",
    "from os import makedirs,path\n",
    "import numpy as np"
   ]
  },
  {
   "cell_type": "markdown",
   "metadata": {},
   "source": [
    "# General lattice constant"
   ]
  },
  {
   "cell_type": "code",
   "execution_count": 17,
   "metadata": {},
   "outputs": [
    {
     "name": "stdout",
     "output_type": "stream",
     "text": [
      "[2.5551]\n",
      "[0.896998420221169]\n",
      "[0.9]\n"
     ]
    }
   ],
   "source": [
    "eq_a0_hcp = 2.8390\n",
    "eq_a0_fcc = 2.8485\n",
    "general_lattice_constant = [eq_a0_hcp*0.90]\n",
    "general_stretch_list_fcc = [x / eq_a0_fcc for x in general_lattice_constant]\n",
    "general_stretch_list_hcp = [x / eq_a0_hcp for x in general_lattice_constant]\n",
    "print(general_lattice_constant)\n",
    "print(general_stretch_list_fcc)\n",
    "print(general_stretch_list_hcp)"
   ]
  },
  {
   "cell_type": "markdown",
   "metadata": {},
   "source": [
    "# FCC"
   ]
  },
  {
   "cell_type": "code",
   "execution_count": 19,
   "metadata": {},
   "outputs": [
    {
     "name": "stdout",
     "output_type": "stream",
     "text": [
      "Move 4 atoms\n",
      "Move 1 atoms\n",
      "Move 12 atoms\n",
      "Move 12 atoms\n",
      "[0.997, 0.997, 1.0060271084064631]\n",
      "[0.998, 0.998, 1.0040120320801924]\n",
      "[0.999, 0.999, 1.002003004005006]\n",
      "[1.0, 1.0, 1.0]\n",
      "[1.001, 1.001, 0.9980029960049943]\n",
      "[1.002, 1.002, 0.9960119680798085]\n",
      "[1.003, 1.003, 0.9940268924035474]\n",
      "[0.896998420221169, 0.896998420221169, 1.2428440675783299]\n"
     ]
    }
   ],
   "source": [
    "def biaxial_stretch():\n",
    "    a0 = eq_a0_fcc\n",
    "    a0_fcc = a0 * sqrt(2)\n",
    "    film = generate_film(symbols = 'Au', structure = 'fcc', num_layers = 12, my_vacuum = 10, slice_plane = (1,1,1), a_fcc = a0_fcc)\n",
    "    stretch_3_direction_list = []\n",
    "    for i in range(7):\n",
    "        stretch_3_direction_list.append([0.997 + i * 0.001, 0.997 + i * 0.001, 1.0/(0.997 + i * 0.001)**2])\n",
    "    for i in general_stretch_list_fcc:\n",
    "        stretch_3_direction_list.append([i, i, 1.0/i**2])\n",
    "    for stretch_list in stretch_3_direction_list:\n",
    "        print(stretch_list)\n",
    "\n",
    "    films_stretch = stretch_list_along_direction_to_cell(film , stretch_3_direction_lists=stretch_3_direction_list)\n",
    "    \n",
    "    #print(np.array(film.get_cell()))\n",
    "    format_type = '%.3f'\n",
    "    for i, film_stretch in enumerate(films_stretch):\n",
    "        formatted_i = format_type % stretch_3_direction_list[i][0]\n",
    "        a = float('%.14f' % (a0 * stretch_3_direction_list[i][0]))\n",
    "        #print(np.array(film_stretch.get_cell())[2][2])\n",
    "        film_stretch.center(vacuum=10, axis=2)\n",
    "        #print(np.array(film_stretch.get_cell())[2][2])\n",
    "        filename = f'./fcc/y_dir/{formatted_i}-{a}/POSCAR' \n",
    "        makedirs(path.dirname(filename), exist_ok=True)   \n",
    "        my_write_vasp(filename, film_stretch, label = f'Au thin film {formatted_i}', lattice_scale_factor=a)\n",
    "        \n",
    "biaxial_stretch()"
   ]
  },
  {
   "cell_type": "markdown",
   "metadata": {},
   "source": [
    "# HCP"
   ]
  },
  {
   "cell_type": "code",
   "execution_count": 20,
   "metadata": {},
   "outputs": [
    {
     "name": "stdout",
     "output_type": "stream",
     "text": [
      "Move 2 atoms\n",
      "Move 2 atoms\n",
      "Move 12 atoms\n",
      "Move 12 atoms\n",
      "[0.997, 0.997, 1.0060271084064631]\n",
      "[0.998, 0.998, 1.0040120320801924]\n",
      "[0.999, 0.999, 1.002003004005006]\n",
      "[1.0, 1.0, 1.0]\n",
      "[1.001, 1.001, 0.9980029960049943]\n",
      "[1.002, 1.002, 0.9960119680798085]\n",
      "[1.003, 1.003, 0.9940268924035474]\n",
      "[0.9, 0.9, 1.2345679012345678]\n"
     ]
    }
   ],
   "source": [
    "def biaxial_stretch():\n",
    "    a0 = eq_a0_hcp\n",
    "    a0_hcp = a0 \n",
    "    film = generate_film(symbols = 'Au', structure = 'hcp', num_layers = 12, my_vacuum = 10, slice_plane = (0,0,1), a_hcp = a0_hcp)\n",
    "    stretch_3_direction_list = []\n",
    "    for i in range(7):\n",
    "        stretch_3_direction_list.append([0.997 + i * 0.001, 0.997 + i * 0.001, 1.0/(0.997 + i * 0.001)**2])\n",
    "    for i in general_stretch_list_hcp:\n",
    "        stretch_3_direction_list.append([i, i, 1.0/i**2])\n",
    "    for stretch_list in stretch_3_direction_list:\n",
    "        print(stretch_list)\n",
    "\n",
    "    films_stretch = stretch_list_along_direction_to_cell(film , stretch_3_direction_lists=stretch_3_direction_list)\n",
    "\n",
    "    #print(np.array(film.get_cell()))\n",
    "    format_type = '%.3f'\n",
    "    for i, film_stretch in enumerate(films_stretch):\n",
    "        formatted_i = format_type % stretch_3_direction_list[i][0]\n",
    "        a = float('%.14f' % (a0 * stretch_3_direction_list[i][0]))\n",
    "        #print(np.array(film_stretch.get_cell())[2][2])\n",
    "        film_stretch.center(vacuum=10, axis=2)\n",
    "        #print(np.array(film_stretch.get_cell())[2][2])\n",
    "        filename = f'./hcp/y_dir/{formatted_i}-{a}/POSCAR' \n",
    "        makedirs(path.dirname(filename), exist_ok=True)   \n",
    "        my_write_vasp(filename, film_stretch, label = f'Au thin film {formatted_i}', lattice_scale_factor=a)\n",
    "        \n",
    "biaxial_stretch()"
   ]
  }
 ],
 "metadata": {
  "kernelspec": {
   "display_name": "mydft",
   "language": "python",
   "name": "python3"
  },
  "language_info": {
   "codemirror_mode": {
    "name": "ipython",
    "version": 3
   },
   "file_extension": ".py",
   "mimetype": "text/x-python",
   "name": "python",
   "nbconvert_exporter": "python",
   "pygments_lexer": "ipython3",
   "version": "3.9.0"
  }
 },
 "nbformat": 4,
 "nbformat_minor": 2
}
