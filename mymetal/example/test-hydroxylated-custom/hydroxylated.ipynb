{
 "cells": [
  {
   "cell_type": "code",
   "execution_count": 1,
   "metadata": {
    "metadata": {}
   },
   "outputs": [],
   "source": [
    "from ase.io.vasp import read_vasp\n",
    "from ase.visualize import view\n",
    "from numpy import sqrt, ndarray, array\n",
    "from ase import Atoms\n",
    "from ase.build import bulk, surface\n",
    "# For version independency, it could be instead by 'from ase.io.vasp import *'\n",
    "import spglib\n",
    "from mymetal.build.film.findprim import my_find_prim\n",
    "from mymetal.build.film.stretch  import  move_atoms, my_find_num_per_slab\n",
    "import os\n",
    "from mymetal.build.film.hydroxyl import passivate_surface_custom"
   ]
  },
  {
   "cell_type": "markdown",
   "metadata": {},
   "source": [
    "# Using Ovito package to slice the bulk structrue, get the pristine slab model"
   ]
  },
  {
   "cell_type": "code",
   "execution_count": 9,
   "metadata": {
    "metadata": {}
   },
   "outputs": [],
   "source": [
    "from ovito.modifiers import SliceModifier\n",
    "from ovito.io import import_file, export_file\n",
    "pipeline = import_file('POSCAR')\n",
    "modifier = SliceModifier(normal=(0, 0, 1), distance = 8, slab_width= 9.6)\n",
    "pipeline.modifiers.append(modifier)\n",
    "data = pipeline.compute()\n",
    "export_file(pipeline, \"POSCAR-slab\", \"vasp\")"
   ]
  },
  {
   "cell_type": "markdown",
   "metadata": {},
   "source": [
    "# Using Mymetal package to get the hydroxylated slab"
   ]
  },
  {
   "cell_type": "code",
   "execution_count": 3,
   "metadata": {
    "metadata": {}
   },
   "outputs": [
    {
     "name": "stdout",
     "output_type": "stream",
     "text": [
      "Totally, dangling bonds of Si: 3\n",
      "Totally, dangling bonds of O: 23\n"
     ]
    },
    {
     "data": {
      "text/plain": [
       "<Popen: returncode: None args: ['/home/louis/mysoft/env/pyenv/mydft/bin/pyth...>"
      ]
     },
     "execution_count": 3,
     "metadata": {},
     "output_type": "execute_result"
    }
   ],
   "source": [
    "pristine_slab = read_vasp(\"./POSCAR-slab\")\n",
    "bulk = read_vasp(\"./POSCAR\")\n",
    "\n",
    "# 控制盒子z方向的高度\n",
    "cell = pristine_slab.get_cell()\n",
    "cell[2, 2] += 5  # 增加z方向的盒子大小\n",
    "pristine_slab.set_cell(cell, scale_atoms=False)  # 保持原子位置不变\n",
    "\n",
    "hydroxyl = Atoms('OH', positions=[[0, 0, 0], [0, 0, 0.98]])\n",
    "view(hydroxyl)\n",
    "adsorbates = {'Si': hydroxyl, 'O': 'H'}\n",
    "view(pristine_slab)\n",
    "hydroxylated_slab = passivate_surface_custom(bulk, pristine_slab, adsorbates, cutoff = 1.9, weights = {'Si': 1.0, 'O': 0.5})\n",
    "view(hydroxylated_slab)"
   ]
  },
  {
   "cell_type": "markdown",
   "metadata": {},
   "source": [
    "# Fixed 5 Angstron"
   ]
  },
  {
   "cell_type": "code",
   "execution_count": 5,
   "metadata": {
    "metadata": {}
   },
   "outputs": [],
   "source": [
    "from ase.io.vasp import write_vasp\n",
    "from mymetal.build.film.extrfilm import my_extr_thick\n",
    "from mymetal.universial.atom.fixatom import fixatoms\n",
    "write_vasp('./POSCAR-hydroxylated-slab',hydroxylated_slab)\n",
    "\n",
    "indices = [atom.index for atom in hydroxylated_slab \n",
    "           if (atom.position[2] - min(hydroxylated_slab.get_positions()[:,2])) < (my_extr_thick(hydroxylated_slab) - 6.5)]\n",
    "hydroxylated_slab_fixed = fixatoms(hydroxylated_slab , indices = indices) \n",
    "write_vasp('./POSCAR-hydroxylated-slab-fixed', hydroxylated_slab_fixed)"
   ]
  }
 ],
 "metadata": {
  "kernelspec": {
   "display_name": "mydft",
   "language": "python",
   "name": "python3"
  },
  "language_info": {
   "codemirror_mode": {
    "name": "ipython",
    "version": 3
   },
   "file_extension": ".py",
   "mimetype": "text/x-python",
   "name": "python",
   "nbconvert_exporter": "python",
   "pygments_lexer": "ipython3",
   "version": "3.11.2"
  }
 },
 "nbformat": 4,
 "nbformat_minor": 2
}
