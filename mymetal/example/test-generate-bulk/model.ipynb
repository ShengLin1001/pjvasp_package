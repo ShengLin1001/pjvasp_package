{
 "cells": [
  {
   "cell_type": "markdown",
   "metadata": {},
   "source": [
    "# 生成不同晶格常数的FCC/HCP，bulk 和 12-layer film 结构，用于 DFT 计算"
   ]
  },
  {
   "cell_type": "code",
   "execution_count": 1,
   "metadata": {},
   "outputs": [],
   "source": [
    "from ase.visualize import view\n",
    "from ase.build import bulk\n",
    "from mymetal.build.film.stretch import generate_film, stretch_list_along_direction_to_cell\n",
    "from mymetal.build.film.extrfilm import my_extr_thick\n",
    "from mymetal.io.vasp import my_write_vasp\n",
    "from os import makedirs, path\n",
    "from numpy import sqrt"
   ]
  },
  {
   "cell_type": "markdown",
   "metadata": {},
   "source": [
    "# 公共晶格常数"
   ]
  },
  {
   "cell_type": "code",
   "execution_count": 2,
   "metadata": {},
   "outputs": [
    {
     "name": "stdout",
     "output_type": "stream",
     "text": [
      "[2.8485, 2.839, 2.66866, 2.72544]\n",
      "[1.0, 0.9966649113568544, 0.9368650166754432, 0.9567983149025803]\n",
      "[1.0033462486791125, 1.0, 0.9400000000000001, 0.96]\n"
     ]
    }
   ],
   "source": [
    "general_lattice_constant = [2.8485, 2.839, 2.66866, 2.72544]\n",
    "eq_a0_hcp = 2.8390\n",
    "eq_a0_fcc = 2.8485\n",
    "general_stretch_list_fcc = [x / eq_a0_fcc for x in general_lattice_constant]\n",
    "general_stretch_list_hcp = [x / eq_a0_hcp for x in general_lattice_constant]\n",
    "print(general_lattice_constant)\n",
    "print(general_stretch_list_fcc)\n",
    "print(general_stretch_list_hcp)"
   ]
  },
  {
   "cell_type": "markdown",
   "metadata": {},
   "source": [
    "# FCC"
   ]
  },
  {
   "cell_type": "code",
   "execution_count": 23,
   "metadata": {},
   "outputs": [
    {
     "name": "stdout",
     "output_type": "stream",
     "text": [
      "[1.0, 1.0, 1.0]\n",
      "[0.9966649113568544, 0.9966649113568544, 1.0067036947384473]\n",
      "[0.9368650166754432, 0.9368650166754432, 1.1393206142354542]\n",
      "[0.9567983149025803, 0.9567983149025803, 1.0923434187700165]\n"
     ]
    }
   ],
   "source": [
    "def biaxial_stretch():\n",
    "    a0 = eq_a0_fcc\n",
    "    a0_fcc = a0 * sqrt(2)\n",
    "    film = generate_film(symbols = 'Au', structure = 'fcc', num_layers = 12, my_vacuum = 10, slice_plane = (1,1,1), a_fcc = a0_fcc)\n",
    "    interlayer_dixtance = my_extr_thick(film)/22\n",
    "    # 构建（111）基面的 FCC 块体\n",
    "    bulk = generate_film(symbols = 'Au', structure = 'fcc', num_layers = 12, my_vacuum = 10, slice_plane = (1,1,1), a_fcc = a0_fcc)\n",
    "    bulk.center(vacuum=interlayer_dixtance, axis=2)\n",
    "    stretch_3_direction_list = []\n",
    "    for i in general_stretch_list_fcc:\n",
    "        stretch_3_direction_list.append([i, i, 1.0/i**2])\n",
    "    for stretch_list in stretch_3_direction_list:\n",
    "        print(stretch_list)\n",
    "\n",
    "    films_stretch = stretch_list_along_direction_to_cell(film , stretch_3_direction_lists=stretch_3_direction_list)\n",
    "    bulks_stretch  = stretch_list_along_direction_to_cell(bulk , stretch_3_direction_lists=stretch_3_direction_list)\n",
    "\n",
    "    #print(np.array(film.get_cell()))\n",
    "    format_type = '%.3f'\n",
    "    for i, film_stretch in enumerate(films_stretch):\n",
    "        formatted_i = format_type % stretch_3_direction_list[i][0]\n",
    "        a = float('%.14f' % (a0 * stretch_3_direction_list[i][0]))\n",
    "        film_stretch.center(vacuum=10, axis=2)\n",
    "        filename1 = f'./fcc/{formatted_i}-{a}/full_relaxed_surface_111/POSCAR' \n",
    "        filename2 = f'./fcc/{formatted_i}-{a}/bulk/POSCAR' \n",
    "        makedirs(path.dirname(filename1), exist_ok=True)   \n",
    "        makedirs(path.dirname(filename2), exist_ok=True)   \n",
    "        my_write_vasp(filename1, film_stretch,     label = f'Au FCC thin film {formatted_i}', lattice_scale_factor=a)\n",
    "        my_write_vasp(filename2, bulks_stretch[i], label = f'Au bulk (111)-base {formatted_i}', lattice_scale_factor=a)\n",
    "        \n",
    "biaxial_stretch()"
   ]
  },
  {
   "cell_type": "markdown",
   "metadata": {},
   "source": [
    "# HCP"
   ]
  },
  {
   "cell_type": "code",
   "execution_count": 24,
   "metadata": {},
   "outputs": [
    {
     "name": "stdout",
     "output_type": "stream",
     "text": [
      "[1.0033462486791125, 1.0033462486791125, 0.9933409455299664]\n",
      "[1.0, 1.0, 1.0]\n",
      "[0.9400000000000001, 0.9400000000000001, 1.131733816206428]\n",
      "[0.96, 0.96, 1.0850694444444444]\n"
     ]
    }
   ],
   "source": [
    "\n",
    "\n",
    "def biaxial_stretch():\n",
    "    a0 = eq_a0_hcp\n",
    "    a0_hcp = a0 \n",
    "    film = generate_film(symbols = 'Au', structure = 'hcp', num_layers = 12, my_vacuum = 10, slice_plane = (0,0,1), a_hcp = a0_hcp)\n",
    "    interlayer_dixtance = my_extr_thick(film)/22\n",
    "    # 构建（0001）基面的 HCP 块体\n",
    "    bulk = generate_film(symbols = 'Au', structure = 'hcp', num_layers = 12, my_vacuum = 10, slice_plane = (0,0,1), a_hcp = a0_hcp)\n",
    "    bulk.center(vacuum=interlayer_dixtance, axis=2)\n",
    "    stretch_3_direction_list = []\n",
    "    for i in general_stretch_list_hcp:\n",
    "        stretch_3_direction_list.append([i, i, 1.0/i**2])\n",
    "    for stretch_list in stretch_3_direction_list:\n",
    "        print(stretch_list)\n",
    "\n",
    "    films_stretch = stretch_list_along_direction_to_cell(film , stretch_3_direction_lists=stretch_3_direction_list)\n",
    "    bulks_stretch  = stretch_list_along_direction_to_cell(bulk , stretch_3_direction_lists=stretch_3_direction_list)\n",
    "\n",
    "    #print(np.array(film.get_cell()))\n",
    "    format_type = '%.3f'\n",
    "    for i, film_stretch in enumerate(films_stretch):\n",
    "        formatted_i = format_type % stretch_3_direction_list[i][0]\n",
    "        a = float('%.14f' % (a0 * stretch_3_direction_list[i][0]))\n",
    "        film_stretch.center(vacuum=10, axis=2)\n",
    "        filename1 = f'./hcp/{formatted_i}-{a}/full_relaxed_surface_0001/POSCAR' \n",
    "        filename2 = f'./hcp/{formatted_i}-{a}/bulk/POSCAR' \n",
    "        makedirs(path.dirname(filename1), exist_ok=True)   \n",
    "        makedirs(path.dirname(filename2), exist_ok=True)   \n",
    "        my_write_vasp(filename1, film_stretch,     label = f'Au HCP thin film {formatted_i}', lattice_scale_factor=a)\n",
    "        my_write_vasp(filename2, bulks_stretch[i], label = f'Au bulk (0001)-base {formatted_i}', lattice_scale_factor=a)\n",
    "        \n",
    "        \n",
    "biaxial_stretch()"
   ]
  }
 ],
 "metadata": {
  "kernelspec": {
   "display_name": "mydft",
   "language": "python",
   "name": "python3"
  },
  "language_info": {
   "codemirror_mode": {
    "name": "ipython",
    "version": 3
   },
   "file_extension": ".py",
   "mimetype": "text/x-python",
   "name": "python",
   "nbconvert_exporter": "python",
   "pygments_lexer": "ipython3",
   "version": "3.9.0"
  }
 },
 "nbformat": 4,
 "nbformat_minor": 2
}
