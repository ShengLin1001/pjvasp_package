{
 "cells": [
  {
   "cell_type": "code",
   "execution_count": 6,
   "metadata": {},
   "outputs": [],
   "source": [
    "from ase import Atoms\n",
    "from ase.io.vasp import read_vasp, write_vasp\n",
    "from mymetal.build.film.extrfilm import cal_area\n",
    "from mymetal.calculate.calenergy.surfenergy import cal_surface_energy"
   ]
  },
  {
   "cell_type": "code",
   "execution_count": 11,
   "metadata": {},
   "outputs": [],
   "source": [
    "# Read the data from the text file\n",
    "with open('energy.txt', 'r') as file:\n",
    "    lines = file.readlines()\n",
    "\n",
    "# Parse the data\n",
    "bulk_energy = float(lines[0].split()[1])\n",
    "partial_relaxed_surface_energy = float(lines[1].split()[1])\n",
    "full_relaxed_surface_energy = float(lines[2].split()[1])\n",
    "\n",
    "bulk = read_vasp('bulk/CONTCAR')\n",
    "partial_relaxed = read_vasp('partial_relaxed_surface_111/CONTCAR')\n",
    "full_relaxed = read_vasp('fixed_bottom_2_layer/CONTCAR')\n",
    "#full_relaxed =  read_vasp('full_relaxed_surface_111/CONTCAR')"
   ]
  },
  {
   "cell_type": "code",
   "execution_count": 13,
   "metadata": {},
   "outputs": [
    {
     "name": "stdout",
     "output_type": "stream",
     "text": [
      "1 12 7.213863984250395\n",
      "Partial Relaxed Surface Energy: 0.1222104550 eV/Å²\n",
      "Full Relaxed Surface Energy: 0.1222889927 eV/Å²\n"
     ]
    }
   ],
   "source": [
    "# 表面原子数和体原子数\n",
    "bulk_atoms_number = len(bulk)  # bulk 的原子数\n",
    "partial_surface_atoms_number = len(partial_relaxed)  # 部分弛豫表面的原子数\n",
    "full_surface_atoms_number = len(full_relaxed)  # 完全弛豫表面的原子数\n",
    "# 计算表面积\n",
    "partial_surface_area = cal_area(partial_relaxed)\n",
    "full_surface_area = cal_area(full_relaxed)\n",
    "print(bulk_atoms_number, full_surface_atoms_number, full_surface_area)\n",
    "# 计算表面能\n",
    "partial_surface_energy = cal_surface_energy(\n",
    "    bulk_energy=bulk_energy,\n",
    "    bulk_atoms_number=bulk_atoms_number,\n",
    "    relaxed_surface_energy=partial_relaxed_surface_energy,\n",
    "    surface_atoms_number=partial_surface_atoms_number,\n",
    "    area=partial_surface_area,\n",
    "    factor = 1,\n",
    ")\n",
    "\n",
    "full_surface_energy = cal_surface_energy(\n",
    "    bulk_energy=bulk_energy,\n",
    "    bulk_atoms_number=bulk_atoms_number,\n",
    "    relaxed_surface_energy=full_relaxed_surface_energy,\n",
    "    surface_atoms_number=full_surface_atoms_number,\n",
    "    area=full_surface_area,\n",
    "    factor =1,\n",
    ")\n",
    "\n",
    "# 输出计算结果\n",
    "print(f\"Partial Relaxed Surface Energy: {partial_surface_energy:.10f} eV/Å²\")\n",
    "print(f\"Full Relaxed Surface Energy: {full_surface_energy:.10f} eV/Å²\")"
   ]
  },
  {
   "cell_type": "code",
   "execution_count": 6,
   "metadata": {},
   "outputs": [],
   "source": [
    "# Open a file in write mode\n",
    "with open('surface_energy_results.txt', 'w') as file:\n",
    "    # Write the results to the file\n",
    "    file.write(f\"Partial Relaxed Surface Energy: {partial_surface_energy:.10f} eV/Å²\\n\")\n",
    "    file.write(f\"Full Relaxed Surface Energy: {full_surface_energy:.10f} eV/Å²\\n\")"
   ]
  }
 ],
 "metadata": {
  "kernelspec": {
   "display_name": "mydft",
   "language": "python",
   "name": "python3"
  },
  "language_info": {
   "codemirror_mode": {
    "name": "ipython",
    "version": 3
   },
   "file_extension": ".py",
   "mimetype": "text/x-python",
   "name": "python",
   "nbconvert_exporter": "python",
   "pygments_lexer": "ipython3",
   "version": "3.9.0"
  }
 },
 "nbformat": 4,
 "nbformat_minor": 2
}
