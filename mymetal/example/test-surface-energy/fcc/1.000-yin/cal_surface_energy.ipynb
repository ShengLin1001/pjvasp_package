{
 "cells": [
  {
   "cell_type": "code",
   "execution_count": 1,
   "metadata": {},
   "outputs": [],
   "source": [
    "from ase import Atoms\n",
    "from ase.io.vasp import read_vasp, write_vasp\n",
    "from mymetal.build.film.extrfilm import cal_area\n",
    "from mymetal.calculate.calenergy.surfenergy import cal_surface_energy"
   ]
  },
  {
   "cell_type": "code",
   "execution_count": 2,
   "metadata": {},
   "outputs": [],
   "source": [
    "# Read the data from the text file\n",
    "with open('energy.txt', 'r') as file:\n",
    "    lines = file.readlines()\n",
    "\n",
    "# Parse the data\n",
    "bulk_energy = float(lines[0].split()[1])\n",
    "full_relaxed_surface_energy = float(lines[1].split()[1])\n",
    "\n",
    "bulk = read_vasp('bulk/CONTCAR')\n",
    "full_relaxed =  read_vasp('full_relaxed_surface_111/CONTCAR')"
   ]
  },
  {
   "cell_type": "code",
   "execution_count": 3,
   "metadata": {},
   "outputs": [
    {
     "name": "stdout",
     "output_type": "stream",
     "text": [
      "Full Relaxed Surface Energy: 0.0606910238 eV/Å²\n"
     ]
    }
   ],
   "source": [
    "# 表面原子数和体原子数\n",
    "bulk_atoms_number = len(bulk)  # bulk 的原子数\n",
    "full_surface_atoms_number = len(full_relaxed)  # 完全弛豫表面的原子数\n",
    "# 计算表面积\n",
    "full_surface_area = cal_area(full_relaxed)\n",
    "\n",
    "# 计算表面能\n",
    "full_surface_energy = cal_surface_energy(\n",
    "    bulk_energy=bulk_energy,\n",
    "    bulk_atoms_number=bulk_atoms_number,\n",
    "    relaxed_surface_energy=full_relaxed_surface_energy,\n",
    "    surface_atoms_number=full_surface_atoms_number,\n",
    "    area=full_surface_area\n",
    ")\n",
    "\n",
    "# 输出计算结果\n",
    "print(f\"Full Relaxed Surface Energy: {full_surface_energy:.10f} eV/Å²\")"
   ]
  },
  {
   "cell_type": "code",
   "execution_count": 4,
   "metadata": {},
   "outputs": [],
   "source": [
    "# Open a file in write mode\n",
    "with open('surface_energy_results.txt', 'w') as file:\n",
    "    # Write the results to the file\n",
    "    file.write(f\"Full Relaxed Surface Energy: {full_surface_energy:.10f} eV/Å²\\n\")"
   ]
  }
 ],
 "metadata": {
  "kernelspec": {
   "display_name": "mydft",
   "language": "python",
   "name": "python3"
  },
  "language_info": {
   "codemirror_mode": {
    "name": "ipython",
    "version": 3
   },
   "file_extension": ".py",
   "mimetype": "text/x-python",
   "name": "python",
   "nbconvert_exporter": "python",
   "pygments_lexer": "ipython3",
   "version": "3.9.0"
  }
 },
 "nbformat": 4,
 "nbformat_minor": 2
}
