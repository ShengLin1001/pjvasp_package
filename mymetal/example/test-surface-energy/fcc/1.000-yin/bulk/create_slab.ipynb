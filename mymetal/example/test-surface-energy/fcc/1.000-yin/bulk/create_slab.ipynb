{
 "cells": [
  {
   "cell_type": "code",
   "execution_count": 1,
   "metadata": {},
   "outputs": [],
   "source": [
    "from mymetal.build.film.stretch import generate_film\n",
    "from ase.io.vasp import read_vasp\n",
    "from mymetal.io.vasp import my_write_vasp\n",
    "from ase.visualize import view\n",
    "from mymetal.universial.atom.fixatom import fixatoms"
   ]
  },
  {
   "cell_type": "code",
   "execution_count": 2,
   "metadata": {},
   "outputs": [
    {
     "name": "stdout",
     "output_type": "stream",
     "text": [
      "Move 4 atoms\n",
      "Move 4 atoms\n",
      "Move 1 atoms\n",
      "Move 12 atoms\n",
      "Move 12 atoms\n"
     ]
    }
   ],
   "source": [
    "bulk = read_vasp('POSCAR_bulk')\n",
    "#view(bulk)\n",
    "film_111 = generate_film(bulk_atoms=bulk, num_layers=12, my_vacuum=10, slice_plane=(1,1,1))\n",
    "view(film_111)\n",
    "my_write_vasp('POSCAR_film_111', film_111)"
   ]
  },
  {
   "cell_type": "code",
   "execution_count": 12,
   "metadata": {},
   "outputs": [
    {
     "data": {
      "text/plain": [
       "<Popen: returncode: None args: ['d:\\\\Program Files\\\\anaconda\\\\envs\\\\mydft\\\\p...>"
      ]
     },
     "execution_count": 12,
     "metadata": {},
     "output_type": "execute_result"
    }
   ],
   "source": [
    "indices = [atom.index for atom in film_111 if atom.position[2] < 26.5 and atom.position[2] > 19.4 ]\n",
    "film_111_fixed = fixatoms(film_111, indices = indices) \n",
    "my_write_vasp('POSCAR_film_111_fixed', film_111_fixed)\n",
    "view(film_111_fixed)"
   ]
  }
 ],
 "metadata": {
  "kernelspec": {
   "display_name": "mydft",
   "language": "python",
   "name": "python3"
  },
  "language_info": {
   "codemirror_mode": {
    "name": "ipython",
    "version": 3
   },
   "file_extension": ".py",
   "mimetype": "text/x-python",
   "name": "python",
   "nbconvert_exporter": "python",
   "pygments_lexer": "ipython3",
   "version": "3.9.0"
  }
 },
 "nbformat": 4,
 "nbformat_minor": 2
}
