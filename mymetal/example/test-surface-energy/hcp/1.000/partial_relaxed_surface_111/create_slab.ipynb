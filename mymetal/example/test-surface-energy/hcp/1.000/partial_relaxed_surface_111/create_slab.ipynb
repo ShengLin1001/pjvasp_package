{
 "cells": [
  {
   "cell_type": "code",
   "execution_count": 5,
   "metadata": {},
   "outputs": [],
   "source": [
    "from mymetal.build.film.stretch import generate_film\n",
    "from ase.io.vasp import read_vasp\n",
    "from mymetal.io.vasp import my_write_vasp\n",
    "from ase.visualize import view\n",
    "from mymetal.universal.atom.fixatom import fixatoms"
   ]
  },
  {
   "cell_type": "code",
   "execution_count": 6,
   "metadata": {},
   "outputs": [
    {
     "name": "stdout",
     "output_type": "stream",
     "text": [
      "Move 2 atoms\n",
      "Move 2 atoms\n",
      "Move 2 atoms\n",
      "Atoms(symbols='Au12', pbc=[True, True, False], cell=[[2.859, 0.0, 0.0], [-1.4295, 2.4759666294197107, 0.0], [0.0, -0.0, 46.41734459353118]])\n",
      "Move 12 atoms\n",
      "Move 12 atoms\n"
     ]
    }
   ],
   "source": [
    "bulk = read_vasp('../bulk/CONTCAR')\n",
    "#view(bulk)\n",
    "film_0001 = generate_film(bulk_atoms=bulk, num_layers=12, my_vacuum=10, slice_plane=(0,0,1))\n",
    "view(film_0001)\n",
    "my_write_vasp('POSCAR_film_0001', film_0001)"
   ]
  },
  {
   "cell_type": "code",
   "execution_count": 7,
   "metadata": {},
   "outputs": [
    {
     "data": {
      "text/plain": [
       "<Popen: returncode: None args: ['d:\\\\Program Files\\\\anaconda\\\\envs\\\\mydft\\\\p...>"
      ]
     },
     "execution_count": 7,
     "metadata": {},
     "output_type": "execute_result"
    }
   ],
   "source": [
    "indices = [atom.index for atom in film_0001 if atom.position[2] < 27.0 and atom.position[2] > 19.4 ]\n",
    "film_111_fixed = fixatoms(film_0001, indices = indices) \n",
    "my_write_vasp('POSCAR_film_0001_fixed', film_111_fixed)\n",
    "view(film_111_fixed)"
   ]
  }
 ],
 "metadata": {
  "kernelspec": {
   "display_name": "mydft",
   "language": "python",
   "name": "python3"
  },
  "language_info": {
   "codemirror_mode": {
    "name": "ipython",
    "version": 3
   },
   "file_extension": ".py",
   "mimetype": "text/x-python",
   "name": "python",
   "nbconvert_exporter": "python",
   "pygments_lexer": "ipython3",
   "version": "3.9.0"
  }
 },
 "nbformat": 4,
 "nbformat_minor": 2
}
