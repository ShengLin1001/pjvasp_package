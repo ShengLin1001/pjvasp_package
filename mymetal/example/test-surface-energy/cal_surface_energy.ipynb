{
 "cells": [
  {
   "cell_type": "code",
   "execution_count": 1,
   "metadata": {},
   "outputs": [],
   "source": [
    "from ase import Atoms\n",
    "from ase.io.vasp import read_vasp, write_vasp\n",
    "from mymetal.build.film.extrfilm import cal_area\n",
    "from mymetal.calculate.calenergy.surfenergy import cal_surface_energy"
   ]
  },
  {
   "cell_type": "markdown",
   "metadata": {},
   "source": [
    "# FCC"
   ]
  },
  {
   "cell_type": "code",
   "execution_count": 17,
   "metadata": {},
   "outputs": [
    {
     "name": "stdout",
     "output_type": "stream",
     "text": [
      "Bulk Energies: [-47.04775262, -47.02526414, -44.94252993, -46.07790772]\n",
      "Full Relaxed Surface Energies: [-46.24580704, -46.24261383, -44.54277099, -45.53567727]\n",
      "Bulk Structures: [Atoms(symbols='Au12', pbc=True, cell=[[2.8484999999999996, 0.0, 0.0], [-1.4242499999999993, 2.4668733626799737, 0.0], [0.0, 0.0, 28.78475556737619]]), Atoms(symbols='Au12', pbc=True, cell=[[2.8389999999999995, 0.0, 0.0], [-1.4194999999999993, 2.4586461213440214, 0.0], [0.0, 0.0, 28.91516499564352]]), Atoms(symbols='Au12', pbc=True, cell=[[2.6686599999999996, 0.0, 0.0], [-1.3343299999999993, 2.3111273540633803, 0.0], [0.0, 0.0, 31.518937514758072]]), Atoms(symbols='Au12', pbc=True, cell=[[2.7254399999999994, 0.0, 0.0], [-1.3627199999999993, 2.3603002764902605, 0.0], [0.0, 0.0, 30.576846714103038]])]\n",
      "Full Relaxed Structures: [Atoms(symbols='Au12', pbc=True, cell=[[2.8484999999999996, 0.0, 0.0], [-1.4242499999999993, 2.4668733626799737, 0.0], [0.0, 0.0, 45.58369561849889]]), Atoms(symbols='Au12', pbc=True, cell=[[2.8389999999999995, 0.0, 0.0], [-1.4194999999999993, 2.4586461213440214, 0.0], [0.0, 0.0, 45.75520090420666]]), Atoms(symbols='Au12', pbc=True, cell=[[2.6686599999999996, 0.0, 0.0], [-1.3343299999999993, 2.3111273540633803, 0.0], [0.0, 0.0, 49.14803180648106]]), Atoms(symbols='Au12', pbc=True, cell=[[2.7254399999999994, 0.0, 0.0], [-1.3627199999999993, 2.3603002764902605, 0.0], [0.0, 0.0, 47.94618153668257]])]\n",
      "./fcc/1.000-2.8485/bulk Surface Energy: 0.0570626351 eV/Å² = 0.9142441416 J/m²\n",
      "./fcc/0.997-2.839/bulk Surface Energy: 0.0560630020 eV/Å² = 0.8982282547 J/m²\n",
      "./fcc/0.937-2.66866/bulk Surface Energy: 0.0324079131 eV/Å² = 0.5192319740 J/m²\n",
      "./fcc/0.957-2.72544/bulk Surface Energy: 0.0421453849 eV/Å² = 0.6752434607 J/m²\n"
     ]
    }
   ],
   "source": [
    "# Read the data from the text file\n",
    "with open('./fcc/energy.txt', 'r') as file:\n",
    "    lines = file.readlines()\n",
    "\n",
    "# Initialize lists to store parsed data\n",
    "bulk_energies = []\n",
    "full_relaxed_surface_energies = []\n",
    "bulk_structures = []\n",
    "full_relaxed_structures = []\n",
    "\n",
    "# Parse the data\n",
    "for i in range(0, len(lines), 2):\n",
    "    bulk_line = lines[i].split()\n",
    "    full_relaxed_line = lines[i + 1].split()\n",
    "    \n",
    "    bulk_energies.append(float(bulk_line[1]))\n",
    "    full_relaxed_surface_energies.append(float(full_relaxed_line[1]))\n",
    "    \n",
    "    bulk_structures.append(read_vasp(bulk_line[0] + '/CONTCAR'))\n",
    "    full_relaxed_structures.append(read_vasp(full_relaxed_line[0] + '/CONTCAR'))\n",
    "\n",
    "# Print parsed data for verification\n",
    "print(\"Bulk Energies:\", bulk_energies)\n",
    "print(\"Full Relaxed Surface Energies:\", full_relaxed_surface_energies)\n",
    "print(\"Bulk Structures:\", bulk_structures)\n",
    "print(\"Full Relaxed Structures:\", full_relaxed_structures)\n",
    "\n",
    "with open('surface_energy_fcc_results.txt', 'w') as file:\n",
    "# Write the results to the file\n",
    "    file.write(f\"Lattice constant             Surface energy (eV/Å$_{2}$)               Surface energy (J/m²) \\n\")\n",
    "for i in range(len(bulk_energies)):\n",
    "    #print(i)\n",
    "    bulk_energy = bulk_energies[i]\n",
    "    full_relaxed_surface_energy = full_relaxed_surface_energies[i]\n",
    "    bulk = bulk_structures[i]\n",
    "    full_relaxed = full_relaxed_structures[i]\n",
    "    \n",
    "    # 计算表面能\n",
    "    bulk_atoms_number = len(bulk)  # bulk 的原子数\n",
    "    full_surface_atoms_number = len(full_relaxed)  # 完全弛豫表面的原子数\n",
    "    # 计算表面积\n",
    "    full_surface_area = cal_area(full_relaxed)\n",
    "\n",
    "    # 计算表面能\n",
    "    full_surface_energy = cal_surface_energy(\n",
    "        bulk_energy=bulk_energy,\n",
    "        bulk_atoms_number=bulk_atoms_number,\n",
    "        relaxed_surface_energy=full_relaxed_surface_energy,\n",
    "        surface_atoms_number=full_surface_atoms_number,\n",
    "        area=full_surface_area\n",
    "    )\n",
    "\n",
    "    # 输出计算结果\n",
    "    with open('surface_energy_fcc_results.txt', 'a') as file:\n",
    "    # Write the results to the file\n",
    "        file.write(f\"{lines[2*i].split()[0]}                    {full_surface_energy:.10f}           {full_surface_energy*16.0217652040959:.10f}  \\n\")\n",
    "    print(f\"{lines[2*i].split()[0]} Surface Energy: {full_surface_energy:.10f} eV/Å² = {full_surface_energy*16.0217652040959:.10f} J/m²\")"
   ]
  },
  {
   "cell_type": "markdown",
   "metadata": {},
   "source": [
    "# HCP"
   ]
  },
  {
   "cell_type": "code",
   "execution_count": 18,
   "metadata": {},
   "outputs": [
    {
     "name": "stdout",
     "output_type": "stream",
     "text": [
      "Bulk Energies: [-46.99825448, -44.96857803, -46.10814563, -47.01139342]\n",
      "Full Relaxed Surface Energies: [-46.21245038, -44.56294775, -45.55497432, -46.20828034]\n",
      "Bulk Structures: [Atoms(symbols='Au12', pbc=True, cell=[[2.839, 0.0, 0.0], [-1.4195, 2.4586461213440214, 0.0], [0.0, 0.0, 29.04030894802734]]), Atoms(symbols='Au12', pbc=True, cell=[[2.66866, 0.0, 0.0], [-1.33433, 2.3111273540633803, 0.0], [0.0, 0.0, 31.471919452687807]]), Atoms(symbols='Au12', pbc=True, cell=[[2.72544, 0.0, 0.0], [-1.36272, 2.3603002764902605, 0.0], [0.0, 0.0, 30.551997978539422]]), Atoms(symbols='Au12', pbc=True, cell=[[2.8485000000000005, 0.0, 0.0], [-1.4242500000000002, 2.4668733626799737, 0.0], [0.0, 0.0, 28.935241837948602]])]\n",
      "Full Relaxed Structures: [Atoms(symbols='Au12', pbc=True, cell=[[2.839, 0.0, 0.0], [-1.4195, 2.4586461213440214, 0.0], [0.0, 0.0, 45.498371725791955]]), Atoms(symbols='Au12', pbc=True, cell=[[2.66866, 0.0, 0.0], [-1.33433, 2.3111273540633803, 0.0], [0.0, 0.0, 48.857369540280615]]), Atoms(symbols='Au12', pbc=True, cell=[[2.72544, 0.0, 0.0], [-1.36272, 2.3603002764902605, 0.0], [0.0, 0.0, 47.66750404274302]]), Atoms(symbols='Au12', pbc=True, cell=[[2.8485000000000005, 0.0, 0.0], [-1.4242500000000002, 2.4668733626799737, 0.0], [0.0, 0.0, 45.32857667957275]])]\n",
      "./hcp/1.000-2.839/bulk Surface Energy: 0.0562889151 eV/Å² = 0.9018477809 J/m²\n",
      "./hcp/0.940-2.66866/bulk Surface Energy: 0.0328838946 eV/Å² = 0.5268580385 J/m²\n",
      "./hcp/0.960-2.72544/bulk Surface Energy: 0.0429957738 eV/Å² = 0.6888681920 J/m²\n",
      "./hcp/1.003-2.8485/bulk Surface Energy: 0.0571457089 eV/Å² = 0.9155751297 J/m²\n"
     ]
    }
   ],
   "source": [
    "# Read the data from the text file\n",
    "with open('./hcp/energy.txt', 'r') as file:\n",
    "    lines = file.readlines()\n",
    "\n",
    "# Initialize lists to store parsed data\n",
    "bulk_energies = []\n",
    "full_relaxed_surface_energies = []\n",
    "bulk_structures = []\n",
    "full_relaxed_structures = []\n",
    "\n",
    "# Parse the data\n",
    "for i in range(0, len(lines), 2):\n",
    "    bulk_line = lines[i].split()\n",
    "    full_relaxed_line = lines[i + 1].split()\n",
    "    \n",
    "    bulk_energies.append(float(bulk_line[1]))\n",
    "    full_relaxed_surface_energies.append(float(full_relaxed_line[1]))\n",
    "    \n",
    "    bulk_structures.append(read_vasp(bulk_line[0] + '/CONTCAR'))\n",
    "    full_relaxed_structures.append(read_vasp(full_relaxed_line[0] + '/CONTCAR'))\n",
    "\n",
    "# Print parsed data for verification\n",
    "print(\"Bulk Energies:\", bulk_energies)\n",
    "print(\"Full Relaxed Surface Energies:\", full_relaxed_surface_energies)\n",
    "print(\"Bulk Structures:\", bulk_structures)\n",
    "print(\"Full Relaxed Structures:\", full_relaxed_structures)\n",
    "\n",
    "with open('surface_energy_hcp_results.txt', 'w') as file:\n",
    "# Write the results to the file\n",
    "    file.write(f\"Lattice constant             Surface energy (eV/Å$_{2}$)               Surface energy (J/m²) \\n\")\n",
    "for i in range(len(bulk_energies)):\n",
    "    #print(i)\n",
    "    bulk_energy = bulk_energies[i]\n",
    "    full_relaxed_surface_energy = full_relaxed_surface_energies[i]\n",
    "    bulk = bulk_structures[i]\n",
    "    full_relaxed = full_relaxed_structures[i]\n",
    "    \n",
    "    # 计算表面能\n",
    "    bulk_atoms_number = len(bulk)  # bulk 的原子数\n",
    "    full_surface_atoms_number = len(full_relaxed)  # 完全弛豫表面的原子数\n",
    "    # 计算表面积\n",
    "    full_surface_area = cal_area(full_relaxed)\n",
    "\n",
    "    # 计算表面能\n",
    "    full_surface_energy = cal_surface_energy(\n",
    "        bulk_energy=bulk_energy,\n",
    "        bulk_atoms_number=bulk_atoms_number,\n",
    "        relaxed_surface_energy=full_relaxed_surface_energy,\n",
    "        surface_atoms_number=full_surface_atoms_number,\n",
    "        area=full_surface_area\n",
    "    )\n",
    "\n",
    "    # 输出计算结果\n",
    "    with open('surface_energy_hcp_results.txt', 'a') as file:\n",
    "    # Write the results to the file\n",
    "        file.write(f\"{lines[2*i].split()[0]}                    {full_surface_energy:.10f}           {full_surface_energy*16.0217652040959:.10f}  \\n\")\n",
    "    print(f\"{lines[2*i].split()[0]} Surface Energy: {full_surface_energy:.10f} eV/Å² = {full_surface_energy*16.0217652040959:.10f} J/m²\")"
   ]
  },
  {
   "cell_type": "code",
   "execution_count": 4,
   "metadata": {},
   "outputs": [],
   "source": [
    "# Open a file in write mode\n",
    "with open('surface_energy_results.txt', 'w') as file:\n",
    "    # Write the results to the file\n",
    "    file.write(f\"Full Relaxed Surface Energy: {full_surface_energy:.10f} eV/Å²\\n\")"
   ]
  }
 ],
 "metadata": {
  "kernelspec": {
   "display_name": "mydft",
   "language": "python",
   "name": "python3"
  },
  "language_info": {
   "codemirror_mode": {
    "name": "ipython",
    "version": 3
   },
   "file_extension": ".py",
   "mimetype": "text/x-python",
   "name": "python",
   "nbconvert_exporter": "python",
   "pygments_lexer": "ipython3",
   "version": "3.9.0"
  }
 },
 "nbformat": 4,
 "nbformat_minor": 2
}
