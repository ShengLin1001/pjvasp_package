{
 "cells": [
  {
   "cell_type": "code",
   "execution_count": null,
   "metadata": {},
   "outputs": [],
   "source": [
    "import ase\n",
    "from ase.spacegroup import crystal\n",
    "from ase.build.tools import cut, stack\n",
    "from ase.visualize import view\n",
    "\n",
    "a_ag = 4.09\n",
    "ag = crystal(['Ag'], basis=[(0,0,0)], spacegroup=225,\n",
    "             cellpar=[a_ag, a_ag, a_ag, 90., 90., 90.])\n",
    "ag110 = cut(ag, (0, 0, 3), (-1.5, 1.5, 0), nlayers=3)\n",
    "\n",
    "a_si = 5.43\n",
    "si = crystal(['Si'], basis=[(0,0,0)], spacegroup=227,\n",
    "             cellpar=[a_si, a_si, a_si, 90., 90., 90.])\n",
    "si110 = cut(si, (0, 0, 2), (-1, 1, 0), nlayers=3)\n",
    "\n",
    "interface = stack(ag110, si110, maxstrain=1)\n",
    "view(interface)  \n",
    "\n",
    "# Once more, this time adjusted such that the distance between\n",
    "# the closest Ag and Si atoms will be 2.3 Angstrom (requires scipy).\n",
    "interface2 = stack(ag110, si110,\n",
    "                   maxstrain=1, distance=2.3)   \n",
    "#Optimization terminated successfully.\n",
    "#    ...\n",
    "view(interface2)  "
   ]
  }
 ],
 "metadata": {
  "kernelspec": {
   "display_name": "mydft",
   "language": "python",
   "name": "python3"
  },
  "language_info": {
   "name": "python",
   "version": "3.9.0"
  }
 },
 "nbformat": 4,
 "nbformat_minor": 2
}
