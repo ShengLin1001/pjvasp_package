{
 "cells": [
  {
   "cell_type": "code",
   "execution_count": 8,
   "metadata": {},
   "outputs": [
    {
     "data": {
      "text/plain": [
       "<Popen: returncode: None args: ['d:\\\\Program Files\\\\anaconda\\\\envs\\\\mydft\\\\p...>"
      ]
     },
     "execution_count": 8,
     "metadata": {},
     "output_type": "execute_result"
    }
   ],
   "source": [
    "#Example: Create an aluminium (111) slab with three layers.\n",
    "\n",
    "import ase\n",
    "from ase.spacegroup import crystal\n",
    "from ase.build.tools import cut\n",
    "from ase.visualize import view\n",
    "\n",
    "    # First, a unit cell of Al\n",
    "a = 4.05\n",
    "aluminium = crystal('Al', [(1,1,1)], spacegroup=225,\n",
    "                        cellpar=[a, a, a, 90, 90, 90])\n",
    "view(aluminium)\n",
    "    # Then cut out the slab\n",
    "al111 = cut(aluminium, (1,-1,0), (0,1,-1), nlayers=3)\n",
    "view(al111)\n",
    "\n"
   ]
  },
  {
   "cell_type": "code",
   "execution_count": null,
   "metadata": {},
   "outputs": [],
   "source": [
    "from ase.spacegroup import crystal\n",
    "from ase.build.tools import cut\n",
    "\n",
    "    # Again, create a skutterudite unit cell\n",
    "a = 9.04\n",
    "skutterudite = crystal(\n",
    "    ('Co', 'Sb'),\n",
    "    basis=[(0.25,0.25,0.25), (0.0, 0.335, 0.158)],\n",
    "    spacegroup=204,\n",
    "    cellpar=[a, a, a, 90, 90, 90])\n",
    "view\n",
    "\n",
    "    # Then use *origo* to put 'Co' at the corners and *extend* to\n",
    "    # include all corner and edge atoms.\n",
    "s = cut(skutterudite, origo=(0.25, 0.25, 0.25), extend=1.01)\n",
    "view(s)  # doctest:+SKIP"
   ]
  }
 ],
 "metadata": {
  "kernelspec": {
   "display_name": "mydft",
   "language": "python",
   "name": "python3"
  },
  "language_info": {
   "codemirror_mode": {
    "name": "ipython",
    "version": 3
   },
   "file_extension": ".py",
   "mimetype": "text/x-python",
   "name": "python",
   "nbconvert_exporter": "python",
   "pygments_lexer": "ipython3",
   "version": "3.9.0"
  }
 },
 "nbformat": 4,
 "nbformat_minor": 2
}
