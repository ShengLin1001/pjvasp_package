{
 "cells": [
  {
   "cell_type": "code",
   "execution_count": 11,
   "metadata": {},
   "outputs": [
    {
     "name": "stdout",
     "output_type": "stream",
     "text": [
      "Atoms(symbols='Al4', pbc=True, cell=[4.05, 4.05, 4.05], spacegroup_kinds=...)\n",
      "Atoms(symbols='Al3', pbc=True, cell=[[2.025, -2.025, 0.0], [0.0, 2.025, -2.025], [4.049999999999999, 4.049999999999999, 4.049999999999999]], spacegroup_kinds=...)\n"
     ]
    },
    {
     "data": {
      "text/plain": [
       "<Popen: returncode: None args: ['d:\\\\Program Files\\\\anaconda\\\\envs\\\\mydft\\\\p...>"
      ]
     },
     "execution_count": 11,
     "metadata": {},
     "output_type": "execute_result"
    }
   ],
   "source": [
    "#Example: Create an aluminium (111) slab with three layers.\n",
    "\n",
    "import ase\n",
    "from ase.spacegroup import crystal\n",
    "from ase.build.tools import cut\n",
    "from ase.visualize import view\n",
    "\n",
    "    # First, a unit cell of Al\n",
    "a = 4.05\n",
    "aluminium = crystal('Al', [(1,1,1)], spacegroup=225,\n",
    "                        cellpar=[a, a, a, 90, 90, 90])\n",
    "print(aluminium)\n",
    "view(aluminium)\n",
    "    # Then cut out the slab\n",
    "al111 = cut(aluminium, (0.5,-0.5,0), (0,0.5,-0.5), nlayers=3)\n",
    "print(al111)\n",
    "view(al111)\n",
    "\n"
   ]
  },
  {
   "cell_type": "code",
   "execution_count": 33,
   "metadata": {},
   "outputs": [
    {
     "name": "stdout",
     "output_type": "stream",
     "text": [
      "Atoms(symbols='Co8Sb24', pbc=True, cell=[9.04, 9.04, 9.04], spacegroup_kinds=...)\n",
      "Atoms(symbols='Co27Sb36', pbc=True, cell=[9.04, 9.04, 9.040000000000004], spacegroup_kinds=...)\n",
      "Atoms(symbols='Co8Sb24', pbc=True, cell=[9.04, 9.04, 9.040000000000004], spacegroup_kinds=...)\n"
     ]
    },
    {
     "data": {
      "text/plain": [
       "<Popen: returncode: None args: ['d:\\\\Program Files\\\\anaconda\\\\envs\\\\mydft\\\\p...>"
      ]
     },
     "execution_count": 33,
     "metadata": {},
     "output_type": "execute_result"
    }
   ],
   "source": [
    "from ase.spacegroup import crystal\n",
    "from ase.build.tools import cut\n",
    "\n",
    "    # Again, create a skutterudite unit cell\n",
    "a = 9.04\n",
    "skutterudite = crystal(\n",
    "    ('Co', 'Sb'),\n",
    "    basis=[(0.25,0.25,0.25), (0.0, 0.335, 0.158)],\n",
    "    spacegroup=204,\n",
    "    cellpar=[a, a, a, 90, 90, 90])\n",
    "view(skutterudite)\n",
    "print(skutterudite)\n",
    "\n",
    "    # Then use *origo* to put 'Co' at the corners and *extend* to\n",
    "    # include all corner and edge atoms.\n",
    "s = cut(skutterudite, origo=(0.25, 0.25, 0.25), extend=1.1)\n",
    "print(s)\n",
    "view(s)  # doctest:+SKIP\n",
    "\n",
    "s = cut(skutterudite, origo=(0.25, 0.25, 0.25), extend=1)\n",
    "print(s)\n",
    "view(s)  # doctest:+SKIP"
   ]
  }
 ],
 "metadata": {
  "kernelspec": {
   "display_name": "mydft",
   "language": "python",
   "name": "python3"
  },
  "language_info": {
   "codemirror_mode": {
    "name": "ipython",
    "version": 3
   },
   "file_extension": ".py",
   "mimetype": "text/x-python",
   "name": "python",
   "nbconvert_exporter": "python",
   "pygments_lexer": "ipython3",
   "version": "3.9.0"
  }
 },
 "nbformat": 4,
 "nbformat_minor": 2
}
