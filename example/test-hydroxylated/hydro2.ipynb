{
 "cells": [
  {
   "cell_type": "code",
   "execution_count": 1,
   "metadata": {},
   "outputs": [],
   "source": [
    "import ase\n",
    "from ase.io.vasp import read_vasp, write_vasp\n",
    "from ase.visualize import view\n",
    "from ase import Atoms, Atom\n",
    "from numpy import array, ndarray\n",
    "from ase.build import bulk\n",
    "import spglib\n",
    "from mymetal.build.hydroxyl import add_hydro_atoms\n",
    "from mymetal.build.findprim import my_find_prim\n",
    "from mymetal.universial.delatom import mydel_pos_type"
   ]
  },
  {
   "cell_type": "code",
   "execution_count": 2,
   "metadata": {},
   "outputs": [
    {
     "name": "stdout",
     "output_type": "stream",
     "text": [
      "Atoms(symbols='Si8O16', pbc=True, cell=[[7.398732679999999, 0.0, 5e-16], [1.2e-15, 7.398732679999999, 5e-16], [0.0, 0.0, 7.398732679999999]])\n"
     ]
    },
    {
     "data": {
      "text/plain": [
       "<Popen: returncode: None args: ['d:\\\\Program Files\\\\anaconda\\\\envs\\\\mydft\\\\p...>"
      ]
     },
     "execution_count": 2,
     "metadata": {},
     "output_type": "execute_result"
    }
   ],
   "source": [
    "# INPUT the SiO2 model\n",
    "atoms = read_vasp('SiO2.poscar')\n",
    "print(atoms)\n",
    "#view(atoms)"
   ]
  },
  {
   "cell_type": "code",
   "execution_count": 5,
   "metadata": {},
   "outputs": [
    {
     "name": "stdout",
     "output_type": "stream",
     "text": [
      "Atoms(symbols='Si8O16Si8O16', pbc=True, cell=[[7.398732679999999, 0.0, 5e-16], [1.2e-15, 7.398732679999999, 5e-16], [0.0, 0.0, 14.797465359999999]])\n",
      "Atoms(symbols='O24Si10', pbc=True, cell=[[7.398732679999999, 0.0, 5e-16], [1.2e-15, 7.398732679999999, 5e-16], [0.0, 0.0, 14.797465359999999]])\n"
     ]
    },
    {
     "data": {
      "text/plain": [
       "<Popen: returncode: None args: ['d:\\\\Program Files\\\\anaconda\\\\envs\\\\mydft\\\\p...>"
      ]
     },
     "execution_count": 5,
     "metadata": {},
     "output_type": "execute_result"
    }
   ],
   "source": [
    "# SLAB model\n",
    "temp = atoms.repeat([1, 1, 2])\n",
    "print(temp)\n",
    "\n",
    "temp = mydel_pos_type(temp, [float('-inf'), float('inf'), float('-inf'), float('inf'), float('-inf'), 0.9])\n",
    "temp = mydel_pos_type(temp, [float('-inf'), float('inf'), float('-inf'), float('inf'), 10.18, float('inf')])\n",
    "\n",
    "\n",
    "# del temp[[atom.index for atom in temp if atom.position[2] < 0.9 or atom.position[2] > 10.18 ] ]\n",
    "#temp = temp[temp.numbers.argsort()]\n",
    "#temp.center(vacuum = 5, axis = 2)\n",
    "print(temp)\n",
    "view(temp)"
   ]
  },
  {
   "cell_type": "code",
   "execution_count": 4,
   "metadata": {},
   "outputs": [
    {
     "name": "stdout",
     "output_type": "stream",
     "text": [
      "Atoms(symbols='O24Si10', pbc=True, cell=[[7.398732679999999, 0.0, 5e-16], [1.2e-15, 7.398732679999999, 5e-16], [0.0, 0.0, 19.24841585]])\n",
      "Atoms(symbols='H8O24Si10', pbc=True, cell=[[7.398732679999999, 0.0, 5e-16], [1.2e-15, 7.398732679999999, 5e-16], [0.0, 0.0, 21.165215849999996]])\n"
     ]
    },
    {
     "data": {
      "text/plain": [
       "<Popen: returncode: None args: ['d:\\\\Program Files\\\\anaconda\\\\envs\\\\mydft\\\\p...>"
      ]
     },
     "execution_count": 4,
     "metadata": {},
     "output_type": "execute_result"
    }
   ],
   "source": [
    "# ADD H atoms\n",
    "print(temp)\n",
    "added_atoms = add_hydro_atoms(temp, add_symbol = 'H', added_symbol = 'O', surf_range=[14.2, 15], shift_distance = [0, 0, 0.9584])\n",
    "added_atoms = add_hydro_atoms(added_atoms, add_symbol = 'H', added_symbol = 'O', surf_range=[4.9, 5.1], shift_distance = [0, 0, -0.9584])\n",
    "added_atoms.center(vacuum=5, axis=2)\n",
    "print(added_atoms)\n",
    "view(added_atoms)\n"
   ]
  },
  {
   "cell_type": "code",
   "execution_count": 5,
   "metadata": {},
   "outputs": [
    {
     "name": "stdout",
     "output_type": "stream",
     "text": [
      "Atoms(symbols='H4O12Si5', pbc=True, cell=[[3.699366340000001, 3.6993663400000005, 5.000000000000001e-16], [-3.69936634, 3.6993663400000005, 3.2610178387947484e-32], [0.0, 0.0, 21.16521585]])\n"
     ]
    }
   ],
   "source": [
    "# find primitive cell\n",
    "primitive_atoms = my_find_prim(added_atoms, move_list=[0.3, 0.3, 0], check_direction_tag=True, scale_atoms=False)\n",
    "print(primitive_atoms)\n",
    "view(primitive_atoms)\n",
    "write_vasp('POSCAR_H', added_atoms)"
   ]
  }
 ],
 "metadata": {
  "kernelspec": {
   "display_name": "mydft",
   "language": "python",
   "name": "python3"
  },
  "language_info": {
   "codemirror_mode": {
    "name": "ipython",
    "version": 3
   },
   "file_extension": ".py",
   "mimetype": "text/x-python",
   "name": "python",
   "nbconvert_exporter": "python",
   "pygments_lexer": "ipython3",
   "version": "3.9.0"
  }
 },
 "nbformat": 4,
 "nbformat_minor": 2
}
