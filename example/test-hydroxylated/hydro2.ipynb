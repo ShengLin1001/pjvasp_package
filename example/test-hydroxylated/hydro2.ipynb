{
 "cells": [
  {
   "cell_type": "code",
   "execution_count": 14,
   "metadata": {},
   "outputs": [],
   "source": [
    "from ase.io.vasp import read_vasp, write_vasp\n",
    "from ase.visualize import view\n",
    "from mymetal.build.hydroxyl import add_hydro_atoms\n",
    "from mymetal.build.findprim import my_find_prim\n",
    "from mymetal.universial.delatom import mydel_pos_type\n",
    "from mymetal.build.extrfilm import cal_area"
   ]
  },
  {
   "cell_type": "code",
   "execution_count": 15,
   "metadata": {},
   "outputs": [
    {
     "ename": "FileNotFoundError",
     "evalue": "[Errno 2] No such file or directory: 'SiO2.poscar'",
     "output_type": "error",
     "traceback": [
      "\u001b[1;31m---------------------------------------------------------------------------\u001b[0m",
      "\u001b[1;31mFileNotFoundError\u001b[0m                         Traceback (most recent call last)",
      "Cell \u001b[1;32mIn[15], line 2\u001b[0m\n\u001b[0;32m      1\u001b[0m \u001b[38;5;66;03m# INPUT the SiO2 model\u001b[39;00m\n\u001b[1;32m----> 2\u001b[0m atoms \u001b[38;5;241m=\u001b[39m \u001b[43mread_vasp\u001b[49m\u001b[43m(\u001b[49m\u001b[38;5;124;43m'\u001b[39;49m\u001b[38;5;124;43mSiO2.poscar\u001b[39;49m\u001b[38;5;124;43m'\u001b[39;49m\u001b[43m)\u001b[49m\n\u001b[0;32m      3\u001b[0m atoms_prim \u001b[38;5;241m=\u001b[39m my_find_prim(atoms, move_list\u001b[38;5;241m=\u001b[39m[\u001b[38;5;241m0.15\u001b[39m, \u001b[38;5;241m0.15\u001b[39m, \u001b[38;5;241m0\u001b[39m], check_direction_tag\u001b[38;5;241m=\u001b[39m\u001b[38;5;28;01mTrue\u001b[39;00m, scale_atoms\u001b[38;5;241m=\u001b[39m\u001b[38;5;28;01mFalse\u001b[39;00m)\n\u001b[0;32m      4\u001b[0m write_vasp(\u001b[38;5;124m'\u001b[39m\u001b[38;5;124mSiO2_prim.POSCAR\u001b[39m\u001b[38;5;124m'\u001b[39m, atoms_prim)\n",
      "File \u001b[1;32md:\\Program Files\\anaconda\\envs\\mydft\\lib\\site-packages\\ase\\utils\\__init__.py:483\u001b[0m, in \u001b[0;36miofunction.__call__.<locals>.iofunc\u001b[1;34m(file, *args, **kwargs)\u001b[0m\n\u001b[0;32m    481\u001b[0m \u001b[38;5;28;01mtry\u001b[39;00m:\n\u001b[0;32m    482\u001b[0m     \u001b[38;5;28;01mif\u001b[39;00m openandclose:\n\u001b[1;32m--> 483\u001b[0m         fd \u001b[38;5;241m=\u001b[39m \u001b[38;5;28;43mopen\u001b[39;49m\u001b[43m(\u001b[49m\u001b[38;5;28;43mstr\u001b[39;49m\u001b[43m(\u001b[49m\u001b[43mfile\u001b[49m\u001b[43m)\u001b[49m\u001b[43m,\u001b[49m\u001b[43m \u001b[49m\u001b[38;5;28;43mself\u001b[39;49m\u001b[38;5;241;43m.\u001b[39;49m\u001b[43mmode\u001b[49m\u001b[43m)\u001b[49m\n\u001b[0;32m    484\u001b[0m     \u001b[38;5;28;01melse\u001b[39;00m:\n\u001b[0;32m    485\u001b[0m         fd \u001b[38;5;241m=\u001b[39m file\n",
      "\u001b[1;31mFileNotFoundError\u001b[0m: [Errno 2] No such file or directory: 'SiO2.poscar'"
     ]
    }
   ],
   "source": [
    "# INPUT the SiO2 model\n",
    "atoms = read_vasp('SiO2.poscar')\n",
    "atoms_prim = my_find_prim(atoms, move_list=[0.15, 0.15, 0], check_direction_tag=True, scale_atoms=False)\n",
    "write_vasp('SiO2_prim.POSCAR', atoms_prim)\n",
    "print(atoms)\n",
    "\n",
    "# SLAB model\n",
    "temp = atoms.repeat([1, 1, 2])\n",
    "print(temp)\n",
    "\n",
    "temp = mydel_pos_type(temp, [float('-inf'), float('inf'), float('-inf'), float('inf'), float('-inf'), 0.9])\n",
    "temp = mydel_pos_type(temp, [float('-inf'), float('inf'), float('-inf'), float('inf'), 10.18, float('inf')])\n",
    "temp.center(vacuum = 5, axis = 2)\n",
    "print(temp)\n",
    "view(temp)"
   ]
  },
  {
   "cell_type": "code",
   "execution_count": 6,
   "metadata": {},
   "outputs": [
    {
     "name": "stdout",
     "output_type": "stream",
     "text": [
      "Atoms(symbols='H8O24Si10', pbc=True, cell=[[7.398732679999999, 0.0, 5e-16], [1.2e-15, 7.398732679999999, 5e-16], [0.0, 0.0, 21.165215849999996]])\n"
     ]
    },
    {
     "data": {
      "text/plain": [
       "<Popen: returncode: None args: ['d:\\\\Program Files\\\\anaconda\\\\envs\\\\mydft\\\\p...>"
      ]
     },
     "execution_count": 6,
     "metadata": {},
     "output_type": "execute_result"
    }
   ],
   "source": [
    "# ADD H atoms\n",
    "added_atoms = add_hydro_atoms(temp, add_symbol = 'H', added_symbol = 'O', surf_range=[14.2, 15], shift_distance = [0, 0, 0.9584])\n",
    "added_atoms = add_hydro_atoms(added_atoms, add_symbol = 'H', added_symbol = 'O', surf_range=[4.9, 5.1], shift_distance = [0, 0, -0.9584])\n",
    "added_atoms.center(vacuum=0, axis=2)\n",
    "print(added_atoms)\n",
    "view(added_atoms)"
   ]
  },
  {
   "cell_type": "code",
   "execution_count": 12,
   "metadata": {},
   "outputs": [
    {
     "name": "stdout",
     "output_type": "stream",
     "text": [
      "Atoms(symbols='H4O12Si5', pbc=True, cell=[[3.699366340000001, 3.6993663400000005, 5.000000000000001e-16], [-3.69936634, 3.6993663400000005, 3.2610178387947484e-32], [0.0, 0.0, 21.16521585]])\n",
      "27.370622635049997\n"
     ]
    }
   ],
   "source": [
    "# find primitive cell\n",
    "primitive_atoms = my_find_prim(added_atoms, move_list=[0.15, 0.15, 0], check_direction_tag=True, scale_atoms=False)\n",
    "print(primitive_atoms)\n",
    "print(cal_area(primitive_atoms))\n",
    "#view(primitive_atoms)\n",
    "write_vasp('POSCAR_H', primitive_atoms)"
   ]
  }
 ],
 "metadata": {
  "kernelspec": {
   "display_name": "mydft",
   "language": "python",
   "name": "python3"
  },
  "language_info": {
   "codemirror_mode": {
    "name": "ipython",
    "version": 3
   },
   "file_extension": ".py",
   "mimetype": "text/x-python",
   "name": "python",
   "nbconvert_exporter": "python",
   "pygments_lexer": "ipython3",
   "version": "3.9.0"
  }
 },
 "nbformat": 4,
 "nbformat_minor": 2
}
