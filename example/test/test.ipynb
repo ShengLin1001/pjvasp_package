{
 "cells": [
  {
   "cell_type": "code",
   "execution_count": 8,
   "metadata": {},
   "outputs": [
    {
     "name": "stdout",
     "output_type": "stream",
     "text": [
      "<module 'mymetal' from 'C:\\\\Users\\\\LouisR\\\\AppData\\\\Roaming\\\\Python\\\\Python39\\\\site-packages\\\\mymetal\\\\__init__.py'>\n"
     ]
    }
   ],
   "source": [
    "import mymetal\n",
    "print(mymetal)\n"
   ]
  },
  {
   "cell_type": "code",
   "execution_count": 8,
   "metadata": {},
   "outputs": [
    {
     "name": "stderr",
     "output_type": "stream",
     "text": [
      "WARNING: Skipping pjvasp_package as it is not installed.\n"
     ]
    }
   ],
   "source": [
    "! pip3  uninstall  pjvasp_package"
   ]
  },
  {
   "cell_type": "code",
   "execution_count": 6,
   "metadata": {},
   "outputs": [
    {
     "name": "stdout",
     "output_type": "stream",
     "text": [
      "['e:\\\\mycode\\\\github\\\\pjvasp_package\\\\example\\\\test', 'd:\\\\Program Files\\\\anaconda\\\\envs\\\\mydft\\\\python39.zip', 'd:\\\\Program Files\\\\anaconda\\\\envs\\\\mydft\\\\DLLs', 'd:\\\\Program Files\\\\anaconda\\\\envs\\\\mydft\\\\lib', 'd:\\\\Program Files\\\\anaconda\\\\envs\\\\mydft', '', 'C:\\\\Users\\\\LouisR\\\\AppData\\\\Roaming\\\\Python\\\\Python39\\\\site-packages', 'd:\\\\Program Files\\\\anaconda\\\\envs\\\\mydft\\\\lib\\\\site-packages', 'd:\\\\Program Files\\\\anaconda\\\\envs\\\\mydft\\\\lib\\\\site-packages\\\\win32', 'd:\\\\Program Files\\\\anaconda\\\\envs\\\\mydft\\\\lib\\\\site-packages\\\\win32\\\\lib', 'd:\\\\Program Files\\\\anaconda\\\\envs\\\\mydft\\\\lib\\\\site-packages\\\\Pythonwin']\n"
     ]
    }
   ],
   "source": [
    "import sys\n",
    "print(sys.path)\n"
   ]
  }
 ],
 "metadata": {
  "kernelspec": {
   "display_name": "mydft",
   "language": "python",
   "name": "python3"
  },
  "language_info": {
   "codemirror_mode": {
    "name": "ipython",
    "version": 3
   },
   "file_extension": ".py",
   "mimetype": "text/x-python",
   "name": "python",
   "nbconvert_exporter": "python",
   "pygments_lexer": "ipython3",
   "version": "3.9.18"
  }
 },
 "nbformat": 4,
 "nbformat_minor": 2
}
