{
 "cells": [
  {
   "cell_type": "code",
   "execution_count": 1,
   "metadata": {},
   "outputs": [],
   "source": [
    "from hetbuilder.algorithm import CoincidenceAlgorithm\n",
    "from hetbuilder.plotting import InteractivePlot\n",
    "from ase.io.vasp import read_vasp, write_vasp"
   ]
  },
  {
   "cell_type": "code",
   "execution_count": 2,
   "metadata": {},
   "outputs": [
    {
     "data": {
      "text/html": [
       "<pre style=\"white-space:pre;overflow-x:auto;line-height:normal;font-family:Menlo,'DejaVu Sans Mono',consolas,'Courier New',monospace\"><span style=\"color: #800000; text-decoration-color: #800000\">WARNING </span> It seems that the structure <span style=\"color: #800080; text-decoration-color: #800080; font-weight: bold\">Atoms</span><span style=\"font-weight: bold\">(</span><span style=\"color: #808000; text-decoration-color: #808000\">symbols</span>=<span style=\"color: #008000; text-decoration-color: #008000\">'H4O12Si5'</span>, <span style=\"color: #808000; text-decoration-color: #808000\">pbc</span>=<span style=\"color: #00ff00; text-decoration-color: #00ff00; font-style: italic\">True</span>, <span style=\"color: #808000; text-decoration-color: #808000\">cell</span>=<span style=\"font-weight: bold\">[[</span><span style=\"color: #008080; text-decoration-color: #008080; font-weight: bold\">3.6603421357432016</span>,                \n",
       "         <span style=\"color: #008080; text-decoration-color: #008080; font-weight: bold\">3.660342135743201</span>, <span style=\"color: #008080; text-decoration-color: #008080; font-weight: bold\">5e-16</span><span style=\"font-weight: bold\">]</span>, <span style=\"font-weight: bold\">[</span><span style=\"color: #008080; text-decoration-color: #008080; font-weight: bold\">-3.6603421357432</span>, <span style=\"color: #008080; text-decoration-color: #008080; font-weight: bold\">3.660342135743201</span>, <span style=\"color: #008080; text-decoration-color: #008080; font-weight: bold\">0.0</span><span style=\"font-weight: bold\">]</span>, <span style=\"font-weight: bold\">[</span><span style=\"color: #008080; text-decoration-color: #008080; font-weight: bold\">0.0</span>, <span style=\"color: #008080; text-decoration-color: #008080; font-weight: bold\">0.0</span>, <span style=\"color: #008080; text-decoration-color: #008080; font-weight: bold\">50.0</span><span style=\"font-weight: bold\">]])</span> is not          \n",
       "         primitive.                                                                                                \n",
       "</pre>\n"
      ],
      "text/plain": [
       "\u001b[31mWARNING \u001b[0m It seems that the structure \u001b[1;35mAtoms\u001b[0m\u001b[1m(\u001b[0m\u001b[33msymbols\u001b[0m=\u001b[32m'H4O12Si5'\u001b[0m, \u001b[33mpbc\u001b[0m=\u001b[3;92mTrue\u001b[0m, \u001b[33mcell\u001b[0m=\u001b[1m[\u001b[0m\u001b[1m[\u001b[0m\u001b[1;36m3.6603421357432016\u001b[0m,                \n",
       "         \u001b[1;36m3.660342135743201\u001b[0m, \u001b[1;36m5e-16\u001b[0m\u001b[1m]\u001b[0m, \u001b[1m[\u001b[0m\u001b[1;36m-3.6603421357432\u001b[0m, \u001b[1;36m3.660342135743201\u001b[0m, \u001b[1;36m0.0\u001b[0m\u001b[1m]\u001b[0m, \u001b[1m[\u001b[0m\u001b[1;36m0.0\u001b[0m, \u001b[1;36m0.0\u001b[0m, \u001b[1;36m50.0\u001b[0m\u001b[1m]\u001b[0m\u001b[1m]\u001b[0m\u001b[1m)\u001b[0m is not          \n",
       "         primitive.                                                                                                \n"
      ]
     },
     "metadata": {},
     "output_type": "display_data"
    },
    {
     "data": {
      "text/html": [
       "<pre style=\"white-space:pre;overflow-x:auto;line-height:normal;font-family:Menlo,'DejaVu Sans Mono',consolas,'Courier New',monospace\"><span style=\"color: #800000; text-decoration-color: #800000\">WARNING </span> This might lead to unexpected results.                                                                    \n",
       "</pre>\n"
      ],
      "text/plain": [
       "\u001b[31mWARNING \u001b[0m This might lead to unexpected results.                                                                    \n"
      ]
     },
     "metadata": {},
     "output_type": "display_data"
    },
    {
     "data": {
      "text/html": [
       "<pre style=\"white-space:pre;overflow-x:auto;line-height:normal;font-family:Menlo,'DejaVu Sans Mono',consolas,'Courier New',monospace\"><span style=\"color: #000080; text-decoration-color: #000080\">INFO    </span> Searching <span style=\"color: #008080; text-decoration-color: #008080; font-weight: bold\">91</span> angles between <span style=\"color: #008080; text-decoration-color: #008080; font-weight: bold\">0.0</span> and <span style=\"color: #008080; text-decoration-color: #008080; font-weight: bold\">90.0</span> degree with a stepsize of <span style=\"color: #008080; text-decoration-color: #008080; font-weight: bold\">1.0</span> degree.                            \n",
       "</pre>\n"
      ],
      "text/plain": [
       "\u001b[34mINFO    \u001b[0m Searching \u001b[1;36m91\u001b[0m angles between \u001b[1;36m0.0\u001b[0m and \u001b[1;36m90.0\u001b[0m degree with a stepsize of \u001b[1;36m1.0\u001b[0m degree.                            \n"
      ]
     },
     "metadata": {},
     "output_type": "display_data"
    },
    {
     "data": {
      "text/html": [
       "<pre style=\"white-space:pre;overflow-x:auto;line-height:normal;font-family:Menlo,'DejaVu Sans Mono',consolas,'Courier New',monospace\"><span style=\"color: #000080; text-decoration-color: #000080\">INFO    </span> Using <span style=\"color: #008080; text-decoration-color: #008080; font-weight: bold\">12</span> OpenMP threads.                                                                                  \n",
       "</pre>\n"
      ],
      "text/plain": [
       "\u001b[34mINFO    \u001b[0m Using \u001b[1;36m12\u001b[0m OpenMP threads.                                                                                  \n"
      ]
     },
     "metadata": {},
     "output_type": "display_data"
    },
    {
     "data": {
      "text/html": [
       "<pre style=\"white-space:pre;overflow-x:auto;line-height:normal;font-family:Menlo,'DejaVu Sans Mono',consolas,'Courier New',monospace\"><span style=\"color: #000080; text-decoration-color: #000080\">INFO    </span> Running through <span style=\"color: #008080; text-decoration-color: #008080; font-weight: bold\">910000</span> grid points<span style=\"color: #808000; text-decoration-color: #808000\">...</span>                                                                     \n",
       "</pre>\n"
      ],
      "text/plain": [
       "\u001b[34mINFO    \u001b[0m Running through \u001b[1;36m910000\u001b[0m grid points\u001b[33m...\u001b[0m                                                                     \n"
      ]
     },
     "metadata": {},
     "output_type": "display_data"
    },
    {
     "data": {
      "text/html": [
       "<pre style=\"white-space:pre;overflow-x:auto;line-height:normal;font-family:Menlo,'DejaVu Sans Mono',consolas,'Courier New',monospace\"><span style=\"color: #000080; text-decoration-color: #000080\">INFO    </span> Found <span style=\"color: #008080; text-decoration-color: #008080; font-weight: bold\">40</span> results.                                                                                         \n",
       "</pre>\n"
      ],
      "text/plain": [
       "\u001b[34mINFO    \u001b[0m Found \u001b[1;36m40\u001b[0m results.                                                                                         \n"
      ]
     },
     "metadata": {},
     "output_type": "display_data"
    }
   ],
   "source": [
    "bottom = read_vasp('CONTCAR_SiO_film')\n",
    "top = read_vasp('CONTCAR_FCC_film')\n",
    "# we set up the algorithm class\n",
    "alg = CoincidenceAlgorithm(bottom, top)\n",
    "# we run the algorithm for a choice of parameters\n",
    "results = alg.run(Nmax = 5, Nmin = 0, \n",
    "                  tolerance = 2, weight = 0.5)"
   ]
  },
  {
   "cell_type": "code",
   "execution_count": 3,
   "metadata": {},
   "outputs": [],
   "source": [
    "#for j in results:\n",
    "#    print(j)"
   ]
  },
  {
   "cell_type": "code",
   "execution_count": 8,
   "metadata": {},
   "outputs": [
    {
     "name": "stdout",
     "output_type": "stream",
     "text": [
      "Saved structure to H4Au24O12Si5_8.0000_degree_2.vasp with M = [1 0 // 0 1], N = [2 1 // 0 2], stress = 0.0595, strain = 1.6295\n",
      "Saved structure to H4Au18O12Si5_0.0000_degree_1.vasp with M = [1 0 // 0 1], N = [2 1 // -1 1], stress = 0.1631, strain = 0.5589\n",
      "Saved structure to H4Au18O12Si5_0.0000_degree_1.vasp with M = [1 0 // 0 1], N = [2 1 // -1 1], stress = 0.1631, strain = 0.5589\n"
     ]
    }
   ],
   "source": [
    "#%matplotlib widget\n",
    "import matplotlib\n",
    "matplotlib.use('Qt5Agg') # if failed,  pip install PyQt5  PySide2\n",
    "iplot = InteractivePlot(bottom=bottom, top=top, results=results, weight=1)\n",
    "iplot.plot_results()"
   ]
  },
  {
   "cell_type": "code",
   "execution_count": 5,
   "metadata": {},
   "outputs": [
    {
     "name": "stdout",
     "output_type": "stream",
     "text": [
      "<class 'hetbuilder.algorithm.Interface'>\n",
      "Atoms(symbols='H4O12Si5', pbc=True, cell=[[3.6603421357432016, 3.660342135743201, 0.0], [-3.6603421357432, 3.660342135743201, 0.0], [0.0, 0.0, 121.95699699847876]], initial_magmoms=...)\n",
      "Atoms(symbols='Au18', pbc=True, cell=[[4.406014405277883, 2.5438136029405545, 0.0], [-4.406014405277883, 2.5438136029405545, 0.0], [0.0, 0.0, 111.991652324759]], initial_magmoms=...)\n",
      "Atoms(symbols='H4O12Si5Au18', pbc=True, cell=[[4.033178270510542, 3.102077869341878, 0.0], [-4.0331782705105415, 3.102077869341878, 0.0], [0.0, 0.0, 52.94864932323776]], initial_magmoms=...)\n",
      "0.5589439202227763\n"
     ]
    }
   ],
   "source": [
    "j = results[1]\n",
    "print(type(j))\n",
    "print(j.bottom)\n",
    "print(j.top)\n",
    "print(j.stack)\n",
    "print(j.strain)\n",
    "# view(bottom)\n",
    "# view(j.stack)\n"
   ]
  },
  {
   "cell_type": "code",
   "execution_count": 6,
   "metadata": {},
   "outputs": [
    {
     "name": "stdout",
     "output_type": "stream",
     "text": [
      "Atoms(symbols='Au18H4O12Si5', pbc=[True, True, False], cell=[[4.033178270510542, 3.102077869341878, 0.0], [-4.0331782705105415, 3.102077869341878, 0.0], [0.0, 0.0, 52.44864932323775]])\n",
      "Atoms(symbols='Au18H4O12Si5', pbc=[True, True, False], cell=[[4.033178270510542, 3.102077869341878, 0.0], [-4.0331782705105415, 3.102077869341878, 0.0], [0.0, 0.0, 52.44864932323775]])\n",
      "Atoms(symbols='Au18H4O12Si5', pbc=[True, True, False], cell=[[3.6603421357432016, 3.660342135743201, 0.0], [-3.6603421357432, 3.660342135743201, 0.0], [0.0, 0.0, 52.44864932323775]])\n",
      "Atoms(symbols='Au18H4O12Si5', pbc=[True, True, False], cell=[[4.406014405277883, 2.5438136029405545, 0.0], [-4.406014405277883, 2.5438136029405545, 0.0], [0.0, 0.0, 52.44864932323775]])\n"
     ]
    }
   ],
   "source": [
    "from ase import Atoms\n",
    "from ase.build import make_supercell\n",
    "from ase.build.tools import sort\n",
    "from numpy import array, zeros, concatenate\n",
    "from ase.visualize import view\n",
    "\n",
    "def build_supercells(primitive_bottom: Atoms = None, \n",
    "                         primitive_top: Atoms = None,\n",
    "                         M: array = None,\n",
    "                         N: array = None,\n",
    "                         angle_z: float = None, \n",
    "                         weight: float = 0.5,\n",
    "                         distance: float = 3.5,\n",
    "                         vacuum: float = 15,\n",
    "                         pbc: list = [True, True, False], \n",
    "                         reorder=True ) -> Atoms:\n",
    "    \"\"\"\n",
    "    For construct supercell for two primitive cell known transition matrix and rotation angle of top layer around z-dir\\n\n",
    "    Input: must be primitive cell\\n\n",
    "           M, N: bottom, top matrix\\n\n",
    "           angle_z: units: degree, +z direction\\n\n",
    "           distance, vacuum: units: Angstron\\n\n",
    "           weight: must be 0~1, fixing bottom~top\\n\n",
    "           pbc, reorder: the default value is good\\n\n",
    "    Output: \n",
    "           heterostructure\n",
    "    Usage:\n",
    "           For output of hetbuilder, results is a list contained many structures.\n",
    "           defined: j = results[0] or any index\n",
    "                    build_supercells(j.bottom, j.top, j.M, j.N, j.angle, j._weight) # note: _weight\n",
    "           For general situation,\n",
    "                    build_supercells(bottom, top, M, N, angle, weight)\n",
    "    \"\"\"\n",
    "    bottom = primitive_bottom.copy()\n",
    "    top = primitive_top.copy()\n",
    "    #print(top)\n",
    "    # make_supercell\n",
    "    bottom_sup = make_supercell(bottom, M)\n",
    "    top_sup = make_supercell(top, N)\n",
    "    #print(bottom_sup)\n",
    "\n",
    "    # rotate top layer around z, units: degree\n",
    "    top_sup.rotate(angle_z, 'z', rotate_cell=True)\n",
    "    #print(top_sup)\n",
    "    # translate from hetbuilder (atom_functions.cpp/.h) stack_atoms function\n",
    "    stack = stack_atoms(bottom_sup, top_sup, weight, distance, vacuum, pbc, reorder)\n",
    "    #print(1)\n",
    "    return stack\n",
    "\n",
    "def stack_atoms(bottom_sup: Atoms = None, top_sup: Atoms = None, weight: float = 0.5, distance: float = 3.5, vacuum: float = 15, \n",
    "                pbc: list = [True, True, False], reorder: bool=True, shift_tolerance: float = 1e-5) -> Atoms:\n",
    "    \"\"\"\n",
    "    After searching the coincidenced supecell, we get the transition matrix(M for bottom, N for top), and make two supercells, and then try to match them.\\n\n",
    "    Additionally, bottom, top, weight, distance, vacuum.\\n\n",
    "    usage: updating...\n",
    "    Noted: the cell C = A + weight * [B - A], A - bottom, B - top\n",
    "    \"\"\"\n",
    "    # get the max, min z-position \n",
    "    bottom = bottom_sup.copy()\n",
    "    top = top_sup.copy()\n",
    "    min_z1, max_z1 = bottom.positions[:,2].min(), bottom.positions[:,2].max()\n",
    "    min_z2, max_z2 = top.positions[:,2].min(), top.positions[:,2].max()\n",
    "    bottom_thickness = max_z1 - min_z1\n",
    "    top_thickness = max_z2 - min_z2\n",
    "    #print(bottom_thickness)\n",
    "    #print(distance)\n",
    "    shift = bottom_thickness + distance\n",
    "\n",
    "    # add distance\n",
    "    bottom.positions[:,2] -= min_z1\n",
    "    bottom.positions[:,2] += shift_tolerance\n",
    "    top.positions[:,2] -= min_z2\n",
    "    top.positions[:,2] += shift\n",
    "    top.positions[:,2] += shift_tolerance\n",
    "\n",
    "    # generate lattice\n",
    "    new_lattice = zeros((3,3))\n",
    "    \n",
    "    # C = A + weight * [B - A]\n",
    "    for i in range(2):  \n",
    "        for j in range(2):\n",
    "            #print(i,j)\n",
    "            new_lattice[i, j] = bottom.cell[i, j] + weight * (top.cell[i, j] - bottom.cell[i, j])\n",
    "    new_lattice[2,2] = bottom_thickness + distance + top_thickness + vacuum\n",
    "\n",
    "    # combine the position and symbols information\n",
    "    all_positions = concatenate([bottom.positions, top.positions], axis=0)\n",
    "    all_symbols = bottom.get_chemical_symbols() + top.get_chemical_symbols()\n",
    "\n",
    "    # create new Atoms\n",
    "    stack = Atoms(symbols=all_symbols, positions=all_positions, cell=new_lattice, pbc=pbc)\n",
    "    stack.center()\n",
    "    if reorder:\n",
    "        stack = sort(stack)\n",
    "    return stack\n",
    "\n",
    "\n",
    "def scale_cell_xy(atoms_origin: Atoms = None, new_cell: array = None):\n",
    "    \"\"\"\n",
    "    After calculating C - supercell, try to scall xy of cell, but fixed z.\\n\n",
    "    It's important for fixing someone's lattice constant, otherwise, the z-dir constant'll changed!\n",
    "    \"\"\"\n",
    "    atoms = atoms_origin.copy()\n",
    "    # 获取原始的笛卡尔坐标\n",
    "    original_cart_pos = atoms.get_positions()\n",
    "    \n",
    "    # 获取按新晶胞缩放的分数坐标\n",
    "    scaled_positions = atoms.get_scaled_positions()\n",
    "\n",
    "    # 更新晶胞，注意这里假设new_cell是一个numpy数组或类似的可直接赋值给atoms.cell的结构\n",
    "    atoms.set_cell(new_cell)\n",
    "\n",
    "    # 将缩放的分数坐标转换回笛卡尔坐标，这里直接使用Atoms对象的.set_scaled_positions方法\n",
    "    atoms.set_scaled_positions(scaled_positions)\n",
    "\n",
    "    # 保持z方向上的笛卡尔坐标不变\n",
    "    updated_cart_pos = atoms.get_positions()\n",
    "    updated_cart_pos[:, 2] = original_cart_pos[:, 2]\n",
    "\n",
    "    # 更新原子的位置\n",
    "    atoms.set_positions(updated_cart_pos)\n",
    "\n",
    "print(build_supercells(bottom, top, j.M, j.N, j.angle, j._weight))\n",
    "print(build_supercells(bottom, top, j.M, j.N, j.angle, 0.5))\n",
    "print(build_supercells(bottom, top, j.M, j.N, j.angle, 0))\n",
    "print(build_supercells(bottom, top, j.M, j.N, j.angle, 1))"
   ]
  },
  {
   "cell_type": "code",
   "execution_count": 7,
   "metadata": {},
   "outputs": [
    {
     "name": "stdout",
     "output_type": "stream",
     "text": [
      "Atoms(symbols='Au18H4O12Si5', pbc=[True, True, False], cell=[[4.033178270510542, 3.102077869341878, 0.0], [-4.0331782705105415, 3.102077869341878, 0.0], [0.0, 0.0, 52.44864932323775]])\n"
     ]
    }
   ],
   "source": [
    "print(build_supercells(bottom, top, j.M, j.N, j.angle, 0.5))"
   ]
  },
  {
   "cell_type": "code",
   "execution_count": null,
   "metadata": {},
   "outputs": [],
   "source": []
  }
 ],
 "metadata": {
  "kernelspec": {
   "display_name": "hetbuilder",
   "language": "python",
   "name": "python3"
  },
  "language_info": {
   "codemirror_mode": {
    "name": "ipython",
    "version": 3
   },
   "file_extension": ".py",
   "mimetype": "text/x-python",
   "name": "python",
   "nbconvert_exporter": "python",
   "pygments_lexer": "ipython3",
   "version": "3.11.2"
  }
 },
 "nbformat": 4,
 "nbformat_minor": 2
}
