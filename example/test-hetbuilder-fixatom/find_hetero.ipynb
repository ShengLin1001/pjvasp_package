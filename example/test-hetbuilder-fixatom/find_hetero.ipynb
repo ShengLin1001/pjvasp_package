{
 "cells": [
  {
   "cell_type": "code",
   "execution_count": 2,
   "metadata": {},
   "outputs": [],
   "source": [
    "from mymetal.build.findhetero import find_hetero, my_plot_results\n",
    "from ase.io.vasp import read_vasp, write_vasp"
   ]
  },
  {
   "cell_type": "code",
   "execution_count": 3,
   "metadata": {},
   "outputs": [
    {
     "data": {
      "text/html": [
       "<pre style=\"white-space:pre;overflow-x:auto;line-height:normal;font-family:Menlo,'DejaVu Sans Mono',consolas,'Courier New',monospace\"><span style=\"color: #800000; text-decoration-color: #800000\">WARNING </span> It seems that the structure <span style=\"color: #800080; text-decoration-color: #800080; font-weight: bold\">Atoms</span><span style=\"font-weight: bold\">(</span><span style=\"color: #808000; text-decoration-color: #808000\">symbols</span>=<span style=\"color: #008000; text-decoration-color: #008000\">'H4O12Si5'</span>, <span style=\"color: #808000; text-decoration-color: #808000\">pbc</span>=<span style=\"color: #00ff00; text-decoration-color: #00ff00; font-style: italic\">True</span>, <span style=\"color: #808000; text-decoration-color: #808000\">cell</span>=<span style=\"font-weight: bold\">[[</span><span style=\"color: #008080; text-decoration-color: #008080; font-weight: bold\">3.6603421357432016</span>,                \n",
       "         <span style=\"color: #008080; text-decoration-color: #008080; font-weight: bold\">3.660342135743201</span>, <span style=\"color: #008080; text-decoration-color: #008080; font-weight: bold\">5e-16</span><span style=\"font-weight: bold\">]</span>, <span style=\"font-weight: bold\">[</span><span style=\"color: #008080; text-decoration-color: #008080; font-weight: bold\">-3.6603421357432</span>, <span style=\"color: #008080; text-decoration-color: #008080; font-weight: bold\">3.660342135743201</span>, <span style=\"color: #008080; text-decoration-color: #008080; font-weight: bold\">0.0</span><span style=\"font-weight: bold\">]</span>, <span style=\"font-weight: bold\">[</span><span style=\"color: #008080; text-decoration-color: #008080; font-weight: bold\">0.0</span>, <span style=\"color: #008080; text-decoration-color: #008080; font-weight: bold\">0.0</span>, <span style=\"color: #008080; text-decoration-color: #008080; font-weight: bold\">50.0</span><span style=\"font-weight: bold\">]])</span> is not          \n",
       "         primitive.                                                                                                \n",
       "</pre>\n"
      ],
      "text/plain": [
       "\u001b[31mWARNING \u001b[0m It seems that the structure \u001b[1;35mAtoms\u001b[0m\u001b[1m(\u001b[0m\u001b[33msymbols\u001b[0m=\u001b[32m'H4O12Si5'\u001b[0m, \u001b[33mpbc\u001b[0m=\u001b[3;92mTrue\u001b[0m, \u001b[33mcell\u001b[0m=\u001b[1m[\u001b[0m\u001b[1m[\u001b[0m\u001b[1;36m3.6603421357432016\u001b[0m,                \n",
       "         \u001b[1;36m3.660342135743201\u001b[0m, \u001b[1;36m5e-16\u001b[0m\u001b[1m]\u001b[0m, \u001b[1m[\u001b[0m\u001b[1;36m-3.6603421357432\u001b[0m, \u001b[1;36m3.660342135743201\u001b[0m, \u001b[1;36m0.0\u001b[0m\u001b[1m]\u001b[0m, \u001b[1m[\u001b[0m\u001b[1;36m0.0\u001b[0m, \u001b[1;36m0.0\u001b[0m, \u001b[1;36m50.0\u001b[0m\u001b[1m]\u001b[0m\u001b[1m]\u001b[0m\u001b[1m)\u001b[0m is not          \n",
       "         primitive.                                                                                                \n"
      ]
     },
     "metadata": {},
     "output_type": "display_data"
    },
    {
     "data": {
      "text/html": [
       "<pre style=\"white-space:pre;overflow-x:auto;line-height:normal;font-family:Menlo,'DejaVu Sans Mono',consolas,'Courier New',monospace\"><span style=\"color: #800000; text-decoration-color: #800000\">WARNING </span> This might lead to unexpected results.                                                                    \n",
       "</pre>\n"
      ],
      "text/plain": [
       "\u001b[31mWARNING \u001b[0m This might lead to unexpected results.                                                                    \n"
      ]
     },
     "metadata": {},
     "output_type": "display_data"
    },
    {
     "data": {
      "text/html": [
       "<pre style=\"white-space:pre;overflow-x:auto;line-height:normal;font-family:Menlo,'DejaVu Sans Mono',consolas,'Courier New',monospace\"><span style=\"color: #000080; text-decoration-color: #000080\">INFO    </span> Searching <span style=\"color: #008080; text-decoration-color: #008080; font-weight: bold\">91</span> angles between <span style=\"color: #008080; text-decoration-color: #008080; font-weight: bold\">0.0</span> and <span style=\"color: #008080; text-decoration-color: #008080; font-weight: bold\">90.0</span> degree with a stepsize of <span style=\"color: #008080; text-decoration-color: #008080; font-weight: bold\">1.0</span> degree.                            \n",
       "</pre>\n"
      ],
      "text/plain": [
       "\u001b[34mINFO    \u001b[0m Searching \u001b[1;36m91\u001b[0m angles between \u001b[1;36m0.0\u001b[0m and \u001b[1;36m90.0\u001b[0m degree with a stepsize of \u001b[1;36m1.0\u001b[0m degree.                            \n"
      ]
     },
     "metadata": {},
     "output_type": "display_data"
    },
    {
     "data": {
      "text/html": [
       "<pre style=\"white-space:pre;overflow-x:auto;line-height:normal;font-family:Menlo,'DejaVu Sans Mono',consolas,'Courier New',monospace\"><span style=\"color: #000080; text-decoration-color: #000080\">INFO    </span> Using <span style=\"color: #008080; text-decoration-color: #008080; font-weight: bold\">12</span> OpenMP threads.                                                                                  \n",
       "</pre>\n"
      ],
      "text/plain": [
       "\u001b[34mINFO    \u001b[0m Using \u001b[1;36m12\u001b[0m OpenMP threads.                                                                                  \n"
      ]
     },
     "metadata": {},
     "output_type": "display_data"
    },
    {
     "data": {
      "text/html": [
       "<pre style=\"white-space:pre;overflow-x:auto;line-height:normal;font-family:Menlo,'DejaVu Sans Mono',consolas,'Courier New',monospace\"><span style=\"color: #000080; text-decoration-color: #000080\">INFO    </span> Running through <span style=\"color: #008080; text-decoration-color: #008080; font-weight: bold\">117936</span> grid points<span style=\"color: #808000; text-decoration-color: #808000\">...</span>                                                                     \n",
       "</pre>\n"
      ],
      "text/plain": [
       "\u001b[34mINFO    \u001b[0m Running through \u001b[1;36m117936\u001b[0m grid points\u001b[33m...\u001b[0m                                                                     \n"
      ]
     },
     "metadata": {},
     "output_type": "display_data"
    },
    {
     "data": {
      "text/html": [
       "<pre style=\"white-space:pre;overflow-x:auto;line-height:normal;font-family:Menlo,'DejaVu Sans Mono',consolas,'Courier New',monospace\"><span style=\"color: #000080; text-decoration-color: #000080\">INFO    </span> Found <span style=\"color: #008080; text-decoration-color: #008080; font-weight: bold\">16</span> results.                                                                                         \n",
       "</pre>\n"
      ],
      "text/plain": [
       "\u001b[34mINFO    \u001b[0m Found \u001b[1;36m16\u001b[0m results.                                                                                         \n"
      ]
     },
     "metadata": {},
     "output_type": "display_data"
    },
    {
     "name": "stderr",
     "output_type": "stream",
     "text": [
      "Warning: Ignoring XDG_SESSION_TYPE=wayland on Gnome. Use QT_QPA_PLATFORM=wayland to run on Wayland anyway.\n"
     ]
    }
   ],
   "source": [
    "bottom = read_vasp('CONTCAR_SiO_film')\n",
    "top = read_vasp('CONTCAR_FCC_film')\n",
    "results = find_hetero(bottom=bottom, top=top,Nmax = 3, tolerance = 2, weight=0)"
   ]
  },
  {
   "cell_type": "code",
   "execution_count": 16,
   "metadata": {},
   "outputs": [],
   "source": [
    "hetero = read_vasp('POSCAR')\n",
    "hetero.center()\n"
   ]
  },
  {
   "cell_type": "code",
   "execution_count": 20,
   "metadata": {},
   "outputs": [
    {
     "ename": "ImportError",
     "evalue": "cannot import name 'fixatoms' from 'mymetal.universial.fixatom' (/home/louis/mywork/github/myrepo/pjvasp_package/mymetal/universial/fixatom.py)",
     "output_type": "error",
     "traceback": [
      "\u001b[0;31m---------------------------------------------------------------------------\u001b[0m",
      "\u001b[0;31mImportError\u001b[0m                               Traceback (most recent call last)",
      "Cell \u001b[0;32mIn[20], line 1\u001b[0m\n\u001b[0;32m----> 1\u001b[0m \u001b[38;5;28;01mfrom\u001b[39;00m \u001b[38;5;21;01mmymetal\u001b[39;00m\u001b[38;5;21;01m.\u001b[39;00m\u001b[38;5;21;01muniversial\u001b[39;00m\u001b[38;5;21;01m.\u001b[39;00m\u001b[38;5;21;01mfixatom\u001b[39;00m \u001b[38;5;28;01mimport\u001b[39;00m fixatoms\n\u001b[1;32m      2\u001b[0m \u001b[38;5;28mmin\u001b[39m(hetero\u001b[38;5;241m.\u001b[39mget_positions()[:,\u001b[38;5;241m2\u001b[39m])\n",
      "\u001b[0;31mImportError\u001b[0m: cannot import name 'fixatoms' from 'mymetal.universial.fixatom' (/home/louis/mywork/github/myrepo/pjvasp_package/mymetal/universial/fixatom.py)"
     ]
    }
   ],
   "source": [
    "from mymetal.universial.fixatom import fixatoms\n",
    "min(hetero.get_positions()[:,2])\n"
   ]
  }
 ],
 "metadata": {
  "kernelspec": {
   "display_name": "hetbuilder",
   "language": "python",
   "name": "python3"
  },
  "language_info": {
   "codemirror_mode": {
    "name": "ipython",
    "version": 3
   },
   "file_extension": ".py",
   "mimetype": "text/x-python",
   "name": "python",
   "nbconvert_exporter": "python",
   "pygments_lexer": "ipython3",
   "version": "3.11.2"
  }
 },
 "nbformat": 4,
 "nbformat_minor": 2
}
